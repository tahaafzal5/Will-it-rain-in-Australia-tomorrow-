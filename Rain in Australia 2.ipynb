{
 "cells": [
  {
   "cell_type": "code",
   "execution_count": 78,
   "metadata": {},
   "outputs": [],
   "source": [
    "import numpy as np\n",
    "import pandas as pd\n",
    "import matplotlib.pyplot as plt\n",
    "\n",
    "from sklearn.ensemble import GradientBoostingClassifier\n",
    "from sklearn.tree import DecisionTreeClassifier\n",
    "from sklearn.neighbors import KNeighborsClassifier\n",
    "from xgboost import XGBClassifier\n",
    "from sklearn.ensemble import RandomForestClassifier\n",
    "\n",
    "df = pd.read_csv(r'D:\\Augustana University\\Courses\\5. Spring 2020\\COSC 380-A Artificial Intelligence & Robotics\\Projects\\Final Project\\Final Final\\weatherAUS.csv')"
   ]
  },
  {
   "cell_type": "code",
   "execution_count": 79,
   "metadata": {},
   "outputs": [
    {
     "data": {
      "text/plain": [
       "(145460, 24)"
      ]
     },
     "execution_count": 79,
     "metadata": {},
     "output_type": "execute_result"
    }
   ],
   "source": [
    "df.shape"
   ]
  },
  {
   "cell_type": "code",
   "execution_count": 80,
   "metadata": {},
   "outputs": [
    {
     "data": {
      "text/html": [
       "<div>\n",
       "<style scoped>\n",
       "    .dataframe tbody tr th:only-of-type {\n",
       "        vertical-align: middle;\n",
       "    }\n",
       "\n",
       "    .dataframe tbody tr th {\n",
       "        vertical-align: top;\n",
       "    }\n",
       "\n",
       "    .dataframe thead th {\n",
       "        text-align: right;\n",
       "    }\n",
       "</style>\n",
       "<table border=\"1\" class=\"dataframe\">\n",
       "  <thead>\n",
       "    <tr style=\"text-align: right;\">\n",
       "      <th></th>\n",
       "      <th>Date</th>\n",
       "      <th>Location</th>\n",
       "      <th>MinTemp</th>\n",
       "      <th>MaxTemp</th>\n",
       "      <th>Rainfall</th>\n",
       "      <th>Evaporation</th>\n",
       "      <th>Sunshine</th>\n",
       "      <th>WindGustDir</th>\n",
       "      <th>WindGustSpeed</th>\n",
       "      <th>WindDir9am</th>\n",
       "      <th>...</th>\n",
       "      <th>Humidity3pm</th>\n",
       "      <th>Pressure9am</th>\n",
       "      <th>Pressure3pm</th>\n",
       "      <th>Cloud9am</th>\n",
       "      <th>Cloud3pm</th>\n",
       "      <th>Temp9am</th>\n",
       "      <th>Temp3pm</th>\n",
       "      <th>RainToday</th>\n",
       "      <th>RISK_MM</th>\n",
       "      <th>RainTomorrow</th>\n",
       "    </tr>\n",
       "  </thead>\n",
       "  <tbody>\n",
       "    <tr>\n",
       "      <th>0</th>\n",
       "      <td>2008-12-01</td>\n",
       "      <td>Albury</td>\n",
       "      <td>13.4</td>\n",
       "      <td>22.9</td>\n",
       "      <td>0.6</td>\n",
       "      <td>NaN</td>\n",
       "      <td>NaN</td>\n",
       "      <td>W</td>\n",
       "      <td>44.0</td>\n",
       "      <td>W</td>\n",
       "      <td>...</td>\n",
       "      <td>22.0</td>\n",
       "      <td>1007.7</td>\n",
       "      <td>1007.1</td>\n",
       "      <td>8.0</td>\n",
       "      <td>NaN</td>\n",
       "      <td>16.9</td>\n",
       "      <td>21.8</td>\n",
       "      <td>No</td>\n",
       "      <td>0.0</td>\n",
       "      <td>No</td>\n",
       "    </tr>\n",
       "    <tr>\n",
       "      <th>1</th>\n",
       "      <td>2008-12-02</td>\n",
       "      <td>Albury</td>\n",
       "      <td>7.4</td>\n",
       "      <td>25.1</td>\n",
       "      <td>0.0</td>\n",
       "      <td>NaN</td>\n",
       "      <td>NaN</td>\n",
       "      <td>WNW</td>\n",
       "      <td>44.0</td>\n",
       "      <td>NNW</td>\n",
       "      <td>...</td>\n",
       "      <td>25.0</td>\n",
       "      <td>1010.6</td>\n",
       "      <td>1007.8</td>\n",
       "      <td>NaN</td>\n",
       "      <td>NaN</td>\n",
       "      <td>17.2</td>\n",
       "      <td>24.3</td>\n",
       "      <td>No</td>\n",
       "      <td>0.0</td>\n",
       "      <td>No</td>\n",
       "    </tr>\n",
       "    <tr>\n",
       "      <th>2</th>\n",
       "      <td>2008-12-03</td>\n",
       "      <td>Albury</td>\n",
       "      <td>12.9</td>\n",
       "      <td>25.7</td>\n",
       "      <td>0.0</td>\n",
       "      <td>NaN</td>\n",
       "      <td>NaN</td>\n",
       "      <td>WSW</td>\n",
       "      <td>46.0</td>\n",
       "      <td>W</td>\n",
       "      <td>...</td>\n",
       "      <td>30.0</td>\n",
       "      <td>1007.6</td>\n",
       "      <td>1008.7</td>\n",
       "      <td>NaN</td>\n",
       "      <td>2.0</td>\n",
       "      <td>21.0</td>\n",
       "      <td>23.2</td>\n",
       "      <td>No</td>\n",
       "      <td>0.0</td>\n",
       "      <td>No</td>\n",
       "    </tr>\n",
       "    <tr>\n",
       "      <th>3</th>\n",
       "      <td>2008-12-04</td>\n",
       "      <td>Albury</td>\n",
       "      <td>9.2</td>\n",
       "      <td>28.0</td>\n",
       "      <td>0.0</td>\n",
       "      <td>NaN</td>\n",
       "      <td>NaN</td>\n",
       "      <td>NE</td>\n",
       "      <td>24.0</td>\n",
       "      <td>SE</td>\n",
       "      <td>...</td>\n",
       "      <td>16.0</td>\n",
       "      <td>1017.6</td>\n",
       "      <td>1012.8</td>\n",
       "      <td>NaN</td>\n",
       "      <td>NaN</td>\n",
       "      <td>18.1</td>\n",
       "      <td>26.5</td>\n",
       "      <td>No</td>\n",
       "      <td>1.0</td>\n",
       "      <td>No</td>\n",
       "    </tr>\n",
       "    <tr>\n",
       "      <th>4</th>\n",
       "      <td>2008-12-05</td>\n",
       "      <td>Albury</td>\n",
       "      <td>17.5</td>\n",
       "      <td>32.3</td>\n",
       "      <td>1.0</td>\n",
       "      <td>NaN</td>\n",
       "      <td>NaN</td>\n",
       "      <td>W</td>\n",
       "      <td>41.0</td>\n",
       "      <td>ENE</td>\n",
       "      <td>...</td>\n",
       "      <td>33.0</td>\n",
       "      <td>1010.8</td>\n",
       "      <td>1006.0</td>\n",
       "      <td>7.0</td>\n",
       "      <td>8.0</td>\n",
       "      <td>17.8</td>\n",
       "      <td>29.7</td>\n",
       "      <td>No</td>\n",
       "      <td>0.2</td>\n",
       "      <td>No</td>\n",
       "    </tr>\n",
       "    <tr>\n",
       "      <th>5</th>\n",
       "      <td>2008-12-06</td>\n",
       "      <td>Albury</td>\n",
       "      <td>14.6</td>\n",
       "      <td>29.7</td>\n",
       "      <td>0.2</td>\n",
       "      <td>NaN</td>\n",
       "      <td>NaN</td>\n",
       "      <td>WNW</td>\n",
       "      <td>56.0</td>\n",
       "      <td>W</td>\n",
       "      <td>...</td>\n",
       "      <td>23.0</td>\n",
       "      <td>1009.2</td>\n",
       "      <td>1005.4</td>\n",
       "      <td>NaN</td>\n",
       "      <td>NaN</td>\n",
       "      <td>20.6</td>\n",
       "      <td>28.9</td>\n",
       "      <td>No</td>\n",
       "      <td>0.0</td>\n",
       "      <td>No</td>\n",
       "    </tr>\n",
       "    <tr>\n",
       "      <th>6</th>\n",
       "      <td>2008-12-07</td>\n",
       "      <td>Albury</td>\n",
       "      <td>14.3</td>\n",
       "      <td>25.0</td>\n",
       "      <td>0.0</td>\n",
       "      <td>NaN</td>\n",
       "      <td>NaN</td>\n",
       "      <td>W</td>\n",
       "      <td>50.0</td>\n",
       "      <td>SW</td>\n",
       "      <td>...</td>\n",
       "      <td>19.0</td>\n",
       "      <td>1009.6</td>\n",
       "      <td>1008.2</td>\n",
       "      <td>1.0</td>\n",
       "      <td>NaN</td>\n",
       "      <td>18.1</td>\n",
       "      <td>24.6</td>\n",
       "      <td>No</td>\n",
       "      <td>0.0</td>\n",
       "      <td>No</td>\n",
       "    </tr>\n",
       "    <tr>\n",
       "      <th>7</th>\n",
       "      <td>2008-12-08</td>\n",
       "      <td>Albury</td>\n",
       "      <td>7.7</td>\n",
       "      <td>26.7</td>\n",
       "      <td>0.0</td>\n",
       "      <td>NaN</td>\n",
       "      <td>NaN</td>\n",
       "      <td>W</td>\n",
       "      <td>35.0</td>\n",
       "      <td>SSE</td>\n",
       "      <td>...</td>\n",
       "      <td>19.0</td>\n",
       "      <td>1013.4</td>\n",
       "      <td>1010.1</td>\n",
       "      <td>NaN</td>\n",
       "      <td>NaN</td>\n",
       "      <td>16.3</td>\n",
       "      <td>25.5</td>\n",
       "      <td>No</td>\n",
       "      <td>0.0</td>\n",
       "      <td>No</td>\n",
       "    </tr>\n",
       "    <tr>\n",
       "      <th>8</th>\n",
       "      <td>2008-12-09</td>\n",
       "      <td>Albury</td>\n",
       "      <td>9.7</td>\n",
       "      <td>31.9</td>\n",
       "      <td>0.0</td>\n",
       "      <td>NaN</td>\n",
       "      <td>NaN</td>\n",
       "      <td>NNW</td>\n",
       "      <td>80.0</td>\n",
       "      <td>SE</td>\n",
       "      <td>...</td>\n",
       "      <td>9.0</td>\n",
       "      <td>1008.9</td>\n",
       "      <td>1003.6</td>\n",
       "      <td>NaN</td>\n",
       "      <td>NaN</td>\n",
       "      <td>18.3</td>\n",
       "      <td>30.2</td>\n",
       "      <td>No</td>\n",
       "      <td>1.4</td>\n",
       "      <td>Yes</td>\n",
       "    </tr>\n",
       "    <tr>\n",
       "      <th>9</th>\n",
       "      <td>2008-12-10</td>\n",
       "      <td>Albury</td>\n",
       "      <td>13.1</td>\n",
       "      <td>30.1</td>\n",
       "      <td>1.4</td>\n",
       "      <td>NaN</td>\n",
       "      <td>NaN</td>\n",
       "      <td>W</td>\n",
       "      <td>28.0</td>\n",
       "      <td>S</td>\n",
       "      <td>...</td>\n",
       "      <td>27.0</td>\n",
       "      <td>1007.0</td>\n",
       "      <td>1005.7</td>\n",
       "      <td>NaN</td>\n",
       "      <td>NaN</td>\n",
       "      <td>20.1</td>\n",
       "      <td>28.2</td>\n",
       "      <td>Yes</td>\n",
       "      <td>0.0</td>\n",
       "      <td>No</td>\n",
       "    </tr>\n",
       "  </tbody>\n",
       "</table>\n",
       "<p>10 rows × 24 columns</p>\n",
       "</div>"
      ],
      "text/plain": [
       "         Date Location  MinTemp  MaxTemp  Rainfall  Evaporation  Sunshine  \\\n",
       "0  2008-12-01   Albury     13.4     22.9       0.6          NaN       NaN   \n",
       "1  2008-12-02   Albury      7.4     25.1       0.0          NaN       NaN   \n",
       "2  2008-12-03   Albury     12.9     25.7       0.0          NaN       NaN   \n",
       "3  2008-12-04   Albury      9.2     28.0       0.0          NaN       NaN   \n",
       "4  2008-12-05   Albury     17.5     32.3       1.0          NaN       NaN   \n",
       "5  2008-12-06   Albury     14.6     29.7       0.2          NaN       NaN   \n",
       "6  2008-12-07   Albury     14.3     25.0       0.0          NaN       NaN   \n",
       "7  2008-12-08   Albury      7.7     26.7       0.0          NaN       NaN   \n",
       "8  2008-12-09   Albury      9.7     31.9       0.0          NaN       NaN   \n",
       "9  2008-12-10   Albury     13.1     30.1       1.4          NaN       NaN   \n",
       "\n",
       "  WindGustDir  WindGustSpeed WindDir9am  ... Humidity3pm  Pressure9am  \\\n",
       "0           W           44.0          W  ...        22.0       1007.7   \n",
       "1         WNW           44.0        NNW  ...        25.0       1010.6   \n",
       "2         WSW           46.0          W  ...        30.0       1007.6   \n",
       "3          NE           24.0         SE  ...        16.0       1017.6   \n",
       "4           W           41.0        ENE  ...        33.0       1010.8   \n",
       "5         WNW           56.0          W  ...        23.0       1009.2   \n",
       "6           W           50.0         SW  ...        19.0       1009.6   \n",
       "7           W           35.0        SSE  ...        19.0       1013.4   \n",
       "8         NNW           80.0         SE  ...         9.0       1008.9   \n",
       "9           W           28.0          S  ...        27.0       1007.0   \n",
       "\n",
       "   Pressure3pm  Cloud9am  Cloud3pm  Temp9am  Temp3pm  RainToday  RISK_MM  \\\n",
       "0       1007.1       8.0       NaN     16.9     21.8         No      0.0   \n",
       "1       1007.8       NaN       NaN     17.2     24.3         No      0.0   \n",
       "2       1008.7       NaN       2.0     21.0     23.2         No      0.0   \n",
       "3       1012.8       NaN       NaN     18.1     26.5         No      1.0   \n",
       "4       1006.0       7.0       8.0     17.8     29.7         No      0.2   \n",
       "5       1005.4       NaN       NaN     20.6     28.9         No      0.0   \n",
       "6       1008.2       1.0       NaN     18.1     24.6         No      0.0   \n",
       "7       1010.1       NaN       NaN     16.3     25.5         No      0.0   \n",
       "8       1003.6       NaN       NaN     18.3     30.2         No      1.4   \n",
       "9       1005.7       NaN       NaN     20.1     28.2        Yes      0.0   \n",
       "\n",
       "   RainTomorrow  \n",
       "0            No  \n",
       "1            No  \n",
       "2            No  \n",
       "3            No  \n",
       "4            No  \n",
       "5            No  \n",
       "6            No  \n",
       "7            No  \n",
       "8           Yes  \n",
       "9            No  \n",
       "\n",
       "[10 rows x 24 columns]"
      ]
     },
     "execution_count": 80,
     "metadata": {},
     "output_type": "execute_result"
    }
   ],
   "source": [
    "df.head(10)"
   ]
  },
  {
   "cell_type": "markdown",
   "metadata": {},
   "source": [
    "**Date**: The date of observation<br/>\n",
    "**Location:** The common name of the location of the weather station<br/>\n",
    "**MinTemp:** The minimum temperature in degrees celsius<br/>\n",
    "**MaxTemp:** The maximum temperature in degrees celsius<br/>\n",
    "**Rainfall:** The amount of rainfall recorded for the day in mm<br/>\n",
    "**Evaporation:** The so-called Class A pan evaporation (mm) in the 24 hours to 9am<br/>\n",
    "**Sunshine:** The number of hours of bright sunshine in the day.<br/>\n",
    "**WindGustDir:** The direction of the strongest wind gust in the 24 hours to midnight<br/>\n",
    "**WindGustSpeed:** The speed (km/h) of the strongest wind gust in the 24 hours to midnight<br/>\n",
    "**WindDir9am:** Direction of the wind at 9am<br/>\n",
    "**WindDir3pm:** Direction of the wind at 3pm<br/>\n",
    "**WindSpeed9am:** Wind speed (km/hr) averaged over 10 minutes prior to 9am<br/>\n",
    "**WindSpeed3pm:** Wind speed (km/hr) averaged over 10 minutes prior to 3pm<br/>\n",
    "**Humidity9am:** Humidity (percent) at 9am<br/>\n",
    "**Humidity3pm:** Humidity (percent) at 3pm<br/>\n",
    "**Pressure9am:** Atmospheric pressure (hpa) reduced to mean sea level at 9am<br/>\n",
    "**Pressure3pm:** Atmospheric pressure (hpa) reduced to mean sea level at 3pm<br/>\n",
    "**Cloud9am:** Fraction of sky obscured by cloud at 9am. This is measured in oktas, which are a unit of eigths. It records how many<br/>\n",
    "**Cloud3pm:** Fraction of sky obscured by cloud at 3pm. This is measured in oktas, which are a unit of eigths. It records how many<br/>\n",
    "**Temp9am:** Temperature (degrees C) at 9am<br/>\n",
    "**Temp3pm:** Temperature (degrees C) at 9am<br/>\n",
    "**RainToday:** Boolean: 1 if precipitation (mm) in the 24 hours to 9am exceeds 1mm, otherwise 0<br/>\n",
    "**RISK_MM:** The amount of next day rain in mm. Used to create response variable RainTomorrow. A kind of measure of the \"risk\".<br/>\n",
    "**RainTomorrow:** The target variable. Did it rain tomorrow?<br/>"
   ]
  },
  {
   "cell_type": "code",
   "execution_count": 81,
   "metadata": {},
   "outputs": [
    {
     "data": {
      "text/html": [
       "<div>\n",
       "<style scoped>\n",
       "    .dataframe tbody tr th:only-of-type {\n",
       "        vertical-align: middle;\n",
       "    }\n",
       "\n",
       "    .dataframe tbody tr th {\n",
       "        vertical-align: top;\n",
       "    }\n",
       "\n",
       "    .dataframe thead th {\n",
       "        text-align: right;\n",
       "    }\n",
       "</style>\n",
       "<table border=\"1\" class=\"dataframe\">\n",
       "  <thead>\n",
       "    <tr style=\"text-align: right;\">\n",
       "      <th></th>\n",
       "      <th>MinTemp</th>\n",
       "      <th>MaxTemp</th>\n",
       "      <th>Rainfall</th>\n",
       "      <th>Evaporation</th>\n",
       "      <th>Sunshine</th>\n",
       "      <th>WindGustSpeed</th>\n",
       "      <th>WindSpeed9am</th>\n",
       "      <th>WindSpeed3pm</th>\n",
       "      <th>Humidity9am</th>\n",
       "      <th>Humidity3pm</th>\n",
       "      <th>Pressure9am</th>\n",
       "      <th>Pressure3pm</th>\n",
       "      <th>Cloud9am</th>\n",
       "      <th>Cloud3pm</th>\n",
       "      <th>Temp9am</th>\n",
       "      <th>Temp3pm</th>\n",
       "      <th>RISK_MM</th>\n",
       "    </tr>\n",
       "  </thead>\n",
       "  <tbody>\n",
       "    <tr>\n",
       "      <th>count</th>\n",
       "      <td>143975.000000</td>\n",
       "      <td>144199.000000</td>\n",
       "      <td>142199.000000</td>\n",
       "      <td>82670.000000</td>\n",
       "      <td>75625.000000</td>\n",
       "      <td>135197.000000</td>\n",
       "      <td>143693.000000</td>\n",
       "      <td>142398.000000</td>\n",
       "      <td>142806.000000</td>\n",
       "      <td>140953.000000</td>\n",
       "      <td>130395.00000</td>\n",
       "      <td>130432.000000</td>\n",
       "      <td>89572.000000</td>\n",
       "      <td>86102.000000</td>\n",
       "      <td>143693.000000</td>\n",
       "      <td>141851.00000</td>\n",
       "      <td>142193.000000</td>\n",
       "    </tr>\n",
       "    <tr>\n",
       "      <th>mean</th>\n",
       "      <td>12.194034</td>\n",
       "      <td>23.221348</td>\n",
       "      <td>2.360918</td>\n",
       "      <td>5.468232</td>\n",
       "      <td>7.611178</td>\n",
       "      <td>40.035230</td>\n",
       "      <td>14.043426</td>\n",
       "      <td>18.662657</td>\n",
       "      <td>68.880831</td>\n",
       "      <td>51.539116</td>\n",
       "      <td>1017.64994</td>\n",
       "      <td>1015.255889</td>\n",
       "      <td>4.447461</td>\n",
       "      <td>4.509930</td>\n",
       "      <td>16.990631</td>\n",
       "      <td>21.68339</td>\n",
       "      <td>2.360682</td>\n",
       "    </tr>\n",
       "    <tr>\n",
       "      <th>std</th>\n",
       "      <td>6.398495</td>\n",
       "      <td>7.119049</td>\n",
       "      <td>8.478060</td>\n",
       "      <td>4.193704</td>\n",
       "      <td>3.785483</td>\n",
       "      <td>13.607062</td>\n",
       "      <td>8.915375</td>\n",
       "      <td>8.809800</td>\n",
       "      <td>19.029164</td>\n",
       "      <td>20.795902</td>\n",
       "      <td>7.10653</td>\n",
       "      <td>7.037414</td>\n",
       "      <td>2.887159</td>\n",
       "      <td>2.720357</td>\n",
       "      <td>6.488753</td>\n",
       "      <td>6.93665</td>\n",
       "      <td>8.477969</td>\n",
       "    </tr>\n",
       "    <tr>\n",
       "      <th>min</th>\n",
       "      <td>-8.500000</td>\n",
       "      <td>-4.800000</td>\n",
       "      <td>0.000000</td>\n",
       "      <td>0.000000</td>\n",
       "      <td>0.000000</td>\n",
       "      <td>6.000000</td>\n",
       "      <td>0.000000</td>\n",
       "      <td>0.000000</td>\n",
       "      <td>0.000000</td>\n",
       "      <td>0.000000</td>\n",
       "      <td>980.50000</td>\n",
       "      <td>977.100000</td>\n",
       "      <td>0.000000</td>\n",
       "      <td>0.000000</td>\n",
       "      <td>-7.200000</td>\n",
       "      <td>-5.40000</td>\n",
       "      <td>0.000000</td>\n",
       "    </tr>\n",
       "    <tr>\n",
       "      <th>25%</th>\n",
       "      <td>7.600000</td>\n",
       "      <td>17.900000</td>\n",
       "      <td>0.000000</td>\n",
       "      <td>2.600000</td>\n",
       "      <td>4.800000</td>\n",
       "      <td>31.000000</td>\n",
       "      <td>7.000000</td>\n",
       "      <td>13.000000</td>\n",
       "      <td>57.000000</td>\n",
       "      <td>37.000000</td>\n",
       "      <td>1012.90000</td>\n",
       "      <td>1010.400000</td>\n",
       "      <td>1.000000</td>\n",
       "      <td>2.000000</td>\n",
       "      <td>12.300000</td>\n",
       "      <td>16.60000</td>\n",
       "      <td>0.000000</td>\n",
       "    </tr>\n",
       "    <tr>\n",
       "      <th>50%</th>\n",
       "      <td>12.000000</td>\n",
       "      <td>22.600000</td>\n",
       "      <td>0.000000</td>\n",
       "      <td>4.800000</td>\n",
       "      <td>8.400000</td>\n",
       "      <td>39.000000</td>\n",
       "      <td>13.000000</td>\n",
       "      <td>19.000000</td>\n",
       "      <td>70.000000</td>\n",
       "      <td>52.000000</td>\n",
       "      <td>1017.60000</td>\n",
       "      <td>1015.200000</td>\n",
       "      <td>5.000000</td>\n",
       "      <td>5.000000</td>\n",
       "      <td>16.700000</td>\n",
       "      <td>21.10000</td>\n",
       "      <td>0.000000</td>\n",
       "    </tr>\n",
       "    <tr>\n",
       "      <th>75%</th>\n",
       "      <td>16.900000</td>\n",
       "      <td>28.200000</td>\n",
       "      <td>0.800000</td>\n",
       "      <td>7.400000</td>\n",
       "      <td>10.600000</td>\n",
       "      <td>48.000000</td>\n",
       "      <td>19.000000</td>\n",
       "      <td>24.000000</td>\n",
       "      <td>83.000000</td>\n",
       "      <td>66.000000</td>\n",
       "      <td>1022.40000</td>\n",
       "      <td>1020.000000</td>\n",
       "      <td>7.000000</td>\n",
       "      <td>7.000000</td>\n",
       "      <td>21.600000</td>\n",
       "      <td>26.40000</td>\n",
       "      <td>0.800000</td>\n",
       "    </tr>\n",
       "    <tr>\n",
       "      <th>max</th>\n",
       "      <td>33.900000</td>\n",
       "      <td>48.100000</td>\n",
       "      <td>371.000000</td>\n",
       "      <td>145.000000</td>\n",
       "      <td>14.500000</td>\n",
       "      <td>135.000000</td>\n",
       "      <td>130.000000</td>\n",
       "      <td>87.000000</td>\n",
       "      <td>100.000000</td>\n",
       "      <td>100.000000</td>\n",
       "      <td>1041.00000</td>\n",
       "      <td>1039.600000</td>\n",
       "      <td>9.000000</td>\n",
       "      <td>9.000000</td>\n",
       "      <td>40.200000</td>\n",
       "      <td>46.70000</td>\n",
       "      <td>371.000000</td>\n",
       "    </tr>\n",
       "  </tbody>\n",
       "</table>\n",
       "</div>"
      ],
      "text/plain": [
       "             MinTemp        MaxTemp       Rainfall   Evaporation  \\\n",
       "count  143975.000000  144199.000000  142199.000000  82670.000000   \n",
       "mean       12.194034      23.221348       2.360918      5.468232   \n",
       "std         6.398495       7.119049       8.478060      4.193704   \n",
       "min        -8.500000      -4.800000       0.000000      0.000000   \n",
       "25%         7.600000      17.900000       0.000000      2.600000   \n",
       "50%        12.000000      22.600000       0.000000      4.800000   \n",
       "75%        16.900000      28.200000       0.800000      7.400000   \n",
       "max        33.900000      48.100000     371.000000    145.000000   \n",
       "\n",
       "           Sunshine  WindGustSpeed   WindSpeed9am   WindSpeed3pm  \\\n",
       "count  75625.000000  135197.000000  143693.000000  142398.000000   \n",
       "mean       7.611178      40.035230      14.043426      18.662657   \n",
       "std        3.785483      13.607062       8.915375       8.809800   \n",
       "min        0.000000       6.000000       0.000000       0.000000   \n",
       "25%        4.800000      31.000000       7.000000      13.000000   \n",
       "50%        8.400000      39.000000      13.000000      19.000000   \n",
       "75%       10.600000      48.000000      19.000000      24.000000   \n",
       "max       14.500000     135.000000     130.000000      87.000000   \n",
       "\n",
       "         Humidity9am    Humidity3pm   Pressure9am    Pressure3pm  \\\n",
       "count  142806.000000  140953.000000  130395.00000  130432.000000   \n",
       "mean       68.880831      51.539116    1017.64994    1015.255889   \n",
       "std        19.029164      20.795902       7.10653       7.037414   \n",
       "min         0.000000       0.000000     980.50000     977.100000   \n",
       "25%        57.000000      37.000000    1012.90000    1010.400000   \n",
       "50%        70.000000      52.000000    1017.60000    1015.200000   \n",
       "75%        83.000000      66.000000    1022.40000    1020.000000   \n",
       "max       100.000000     100.000000    1041.00000    1039.600000   \n",
       "\n",
       "           Cloud9am      Cloud3pm        Temp9am       Temp3pm        RISK_MM  \n",
       "count  89572.000000  86102.000000  143693.000000  141851.00000  142193.000000  \n",
       "mean       4.447461      4.509930      16.990631      21.68339       2.360682  \n",
       "std        2.887159      2.720357       6.488753       6.93665       8.477969  \n",
       "min        0.000000      0.000000      -7.200000      -5.40000       0.000000  \n",
       "25%        1.000000      2.000000      12.300000      16.60000       0.000000  \n",
       "50%        5.000000      5.000000      16.700000      21.10000       0.000000  \n",
       "75%        7.000000      7.000000      21.600000      26.40000       0.800000  \n",
       "max        9.000000      9.000000      40.200000      46.70000     371.000000  "
      ]
     },
     "execution_count": 81,
     "metadata": {},
     "output_type": "execute_result"
    }
   ],
   "source": [
    "df.describe()"
   ]
  },
  {
   "cell_type": "code",
   "execution_count": 82,
   "metadata": {},
   "outputs": [],
   "source": [
    "df.drop(labels = ['Date', 'Location', 'RISK_MM'], axis = 1, inplace = True)"
   ]
  },
  {
   "cell_type": "code",
   "execution_count": 83,
   "metadata": {},
   "outputs": [],
   "source": [
    "# Replacing Yes by 1 and No by 0 for RainToday and RainTomorrow columns\n",
    "\n",
    "df['RainToday'].replace({'No': 0, 'Yes': 1}, inplace = True)\n",
    "df['RainTomorrow'].replace({'No': 0, 'Yes': 1}, inplace = True)"
   ]
  },
  {
   "cell_type": "code",
   "execution_count": 84,
   "metadata": {},
   "outputs": [
    {
     "data": {
      "text/plain": [
       "array(['W', 'WNW', 'WSW', 'NE', 'NNW', 'N', 'NNE', 'SW', nan, 'ENE',\n",
       "       'SSE', 'S', 'NW', 'SE', 'ESE', 'E', 'SSW'], dtype=object)"
      ]
     },
     "execution_count": 84,
     "metadata": {},
     "output_type": "execute_result"
    }
   ],
   "source": [
    "df['WindGustDir'].unique()"
   ]
  },
  {
   "cell_type": "code",
   "execution_count": 85,
   "metadata": {},
   "outputs": [],
   "source": [
    "df['WindGustDir'].replace({'W': 1, 'WNW': 2, 'WSW': 3, 'NE': 4, 'NNW':5, 'N':6, 'NNE': 7, 'SW': 8,\n",
    "                          'ENE':9, 'SSE': 10, 'S': 11, 'NW': 12, 'SE':13, 'ESE':14,\n",
    "                          'E': 15, 'SSW':16}, inplace = True)"
   ]
  },
  {
   "cell_type": "code",
   "execution_count": 86,
   "metadata": {},
   "outputs": [],
   "source": [
    "#import seaborn as sns\n",
    "\n",
    "#f, ax = plt.subplots(figsize=(20, 15))\n",
    "#corr = df.corr()\n",
    "#sns.heatmap(corr, mask=np.zeros_like(corr, dtype=np.bool), cmap=sns.diverging_palette(220, 10, as_cmap=True),\n",
    "#            square=True, ax=ax, annot = True)"
   ]
  },
  {
   "cell_type": "code",
   "execution_count": 87,
   "metadata": {},
   "outputs": [],
   "source": [
    "#sns.pairplot(df)"
   ]
  },
  {
   "cell_type": "code",
   "execution_count": 88,
   "metadata": {},
   "outputs": [],
   "source": [
    "categorical = ['WindDir3pm', 'WindDir9am']"
   ]
  },
  {
   "cell_type": "code",
   "execution_count": 89,
   "metadata": {},
   "outputs": [],
   "source": [
    "# Adding dummy variables for categorical predictors\n",
    "\n",
    "df = pd.get_dummies(df, columns = categorical, drop_first = True)"
   ]
  },
  {
   "cell_type": "code",
   "execution_count": 90,
   "metadata": {},
   "outputs": [
    {
     "data": {
      "text/plain": [
       "(58080, 49)"
      ]
     },
     "execution_count": 90,
     "metadata": {},
     "output_type": "execute_result"
    }
   ],
   "source": [
    "# Getting rid of nan values\n",
    "\n",
    "df = df.dropna(how = 'any')\n",
    "df.shape"
   ]
  },
  {
   "cell_type": "code",
   "execution_count": 91,
   "metadata": {},
   "outputs": [],
   "source": [
    "from sklearn import preprocessing\n",
    "\n",
    "scale = preprocessing.MinMaxScaler()\n",
    "scale.fit(df)\n",
    "\n",
    "df = pd.DataFrame(scale.transform(df), index = df.index, columns = df.columns)"
   ]
  },
  {
   "cell_type": "code",
   "execution_count": 92,
   "metadata": {},
   "outputs": [
    {
     "data": {
      "text/html": [
       "<div>\n",
       "<style scoped>\n",
       "    .dataframe tbody tr th:only-of-type {\n",
       "        vertical-align: middle;\n",
       "    }\n",
       "\n",
       "    .dataframe tbody tr th {\n",
       "        vertical-align: top;\n",
       "    }\n",
       "\n",
       "    .dataframe thead th {\n",
       "        text-align: right;\n",
       "    }\n",
       "</style>\n",
       "<table border=\"1\" class=\"dataframe\">\n",
       "  <thead>\n",
       "    <tr style=\"text-align: right;\">\n",
       "      <th></th>\n",
       "      <th>MinTemp</th>\n",
       "      <th>MaxTemp</th>\n",
       "      <th>Rainfall</th>\n",
       "      <th>Evaporation</th>\n",
       "      <th>Sunshine</th>\n",
       "      <th>WindGustDir</th>\n",
       "      <th>WindGustSpeed</th>\n",
       "      <th>WindSpeed9am</th>\n",
       "      <th>WindSpeed3pm</th>\n",
       "      <th>Humidity9am</th>\n",
       "      <th>...</th>\n",
       "      <th>WindDir9am_NNW</th>\n",
       "      <th>WindDir9am_NW</th>\n",
       "      <th>WindDir9am_S</th>\n",
       "      <th>WindDir9am_SE</th>\n",
       "      <th>WindDir9am_SSE</th>\n",
       "      <th>WindDir9am_SSW</th>\n",
       "      <th>WindDir9am_SW</th>\n",
       "      <th>WindDir9am_W</th>\n",
       "      <th>WindDir9am_WNW</th>\n",
       "      <th>WindDir9am_WSW</th>\n",
       "    </tr>\n",
       "  </thead>\n",
       "  <tbody>\n",
       "    <tr>\n",
       "      <th>6049</th>\n",
       "      <td>0.645669</td>\n",
       "      <td>0.706818</td>\n",
       "      <td>0.0</td>\n",
       "      <td>0.147783</td>\n",
       "      <td>0.848276</td>\n",
       "      <td>1.000000</td>\n",
       "      <td>0.339130</td>\n",
       "      <td>0.089552</td>\n",
       "      <td>0.263158</td>\n",
       "      <td>0.20</td>\n",
       "      <td>...</td>\n",
       "      <td>0.0</td>\n",
       "      <td>0.0</td>\n",
       "      <td>0.0</td>\n",
       "      <td>0.0</td>\n",
       "      <td>0.0</td>\n",
       "      <td>0.0</td>\n",
       "      <td>0.0</td>\n",
       "      <td>0.0</td>\n",
       "      <td>0.0</td>\n",
       "      <td>0.0</td>\n",
       "    </tr>\n",
       "    <tr>\n",
       "      <th>6050</th>\n",
       "      <td>0.658793</td>\n",
       "      <td>0.563636</td>\n",
       "      <td>0.0</td>\n",
       "      <td>0.182266</td>\n",
       "      <td>0.896552</td>\n",
       "      <td>0.666667</td>\n",
       "      <td>0.243478</td>\n",
       "      <td>0.283582</td>\n",
       "      <td>0.250000</td>\n",
       "      <td>0.30</td>\n",
       "      <td>...</td>\n",
       "      <td>0.0</td>\n",
       "      <td>0.0</td>\n",
       "      <td>0.0</td>\n",
       "      <td>0.0</td>\n",
       "      <td>1.0</td>\n",
       "      <td>0.0</td>\n",
       "      <td>0.0</td>\n",
       "      <td>0.0</td>\n",
       "      <td>0.0</td>\n",
       "      <td>0.0</td>\n",
       "    </tr>\n",
       "    <tr>\n",
       "      <th>6052</th>\n",
       "      <td>0.685039</td>\n",
       "      <td>0.761364</td>\n",
       "      <td>0.0</td>\n",
       "      <td>0.133005</td>\n",
       "      <td>0.731034</td>\n",
       "      <td>0.400000</td>\n",
       "      <td>0.321739</td>\n",
       "      <td>0.447761</td>\n",
       "      <td>0.197368</td>\n",
       "      <td>0.42</td>\n",
       "      <td>...</td>\n",
       "      <td>0.0</td>\n",
       "      <td>0.0</td>\n",
       "      <td>0.0</td>\n",
       "      <td>0.0</td>\n",
       "      <td>0.0</td>\n",
       "      <td>0.0</td>\n",
       "      <td>0.0</td>\n",
       "      <td>0.0</td>\n",
       "      <td>0.0</td>\n",
       "      <td>0.0</td>\n",
       "    </tr>\n",
       "    <tr>\n",
       "      <th>6053</th>\n",
       "      <td>0.750656</td>\n",
       "      <td>0.779545</td>\n",
       "      <td>0.0</td>\n",
       "      <td>0.140394</td>\n",
       "      <td>0.841379</td>\n",
       "      <td>0.066667</td>\n",
       "      <td>0.191304</td>\n",
       "      <td>0.089552</td>\n",
       "      <td>0.078947</td>\n",
       "      <td>0.37</td>\n",
       "      <td>...</td>\n",
       "      <td>0.0</td>\n",
       "      <td>0.0</td>\n",
       "      <td>0.0</td>\n",
       "      <td>0.0</td>\n",
       "      <td>0.0</td>\n",
       "      <td>0.0</td>\n",
       "      <td>0.0</td>\n",
       "      <td>0.0</td>\n",
       "      <td>1.0</td>\n",
       "      <td>0.0</td>\n",
       "    </tr>\n",
       "    <tr>\n",
       "      <th>6054</th>\n",
       "      <td>0.811024</td>\n",
       "      <td>0.838636</td>\n",
       "      <td>0.0</td>\n",
       "      <td>0.137931</td>\n",
       "      <td>0.579310</td>\n",
       "      <td>0.066667</td>\n",
       "      <td>0.226087</td>\n",
       "      <td>0.253731</td>\n",
       "      <td>0.171053</td>\n",
       "      <td>0.19</td>\n",
       "      <td>...</td>\n",
       "      <td>0.0</td>\n",
       "      <td>1.0</td>\n",
       "      <td>0.0</td>\n",
       "      <td>0.0</td>\n",
       "      <td>0.0</td>\n",
       "      <td>0.0</td>\n",
       "      <td>0.0</td>\n",
       "      <td>0.0</td>\n",
       "      <td>0.0</td>\n",
       "      <td>0.0</td>\n",
       "    </tr>\n",
       "    <tr>\n",
       "      <th>...</th>\n",
       "      <td>...</td>\n",
       "      <td>...</td>\n",
       "      <td>...</td>\n",
       "      <td>...</td>\n",
       "      <td>...</td>\n",
       "      <td>...</td>\n",
       "      <td>...</td>\n",
       "      <td>...</td>\n",
       "      <td>...</td>\n",
       "      <td>...</td>\n",
       "      <td>...</td>\n",
       "      <td>...</td>\n",
       "      <td>...</td>\n",
       "      <td>...</td>\n",
       "      <td>...</td>\n",
       "      <td>...</td>\n",
       "      <td>...</td>\n",
       "      <td>...</td>\n",
       "      <td>...</td>\n",
       "      <td>...</td>\n",
       "      <td>...</td>\n",
       "    </tr>\n",
       "    <tr>\n",
       "      <th>142298</th>\n",
       "      <td>0.682415</td>\n",
       "      <td>0.665909</td>\n",
       "      <td>0.0</td>\n",
       "      <td>0.073892</td>\n",
       "      <td>0.758621</td>\n",
       "      <td>0.533333</td>\n",
       "      <td>0.226087</td>\n",
       "      <td>0.134328</td>\n",
       "      <td>0.263158</td>\n",
       "      <td>0.63</td>\n",
       "      <td>...</td>\n",
       "      <td>0.0</td>\n",
       "      <td>0.0</td>\n",
       "      <td>0.0</td>\n",
       "      <td>1.0</td>\n",
       "      <td>0.0</td>\n",
       "      <td>0.0</td>\n",
       "      <td>0.0</td>\n",
       "      <td>0.0</td>\n",
       "      <td>0.0</td>\n",
       "      <td>0.0</td>\n",
       "    </tr>\n",
       "    <tr>\n",
       "      <th>142299</th>\n",
       "      <td>0.732283</td>\n",
       "      <td>0.647727</td>\n",
       "      <td>0.0</td>\n",
       "      <td>0.093596</td>\n",
       "      <td>0.593103</td>\n",
       "      <td>0.933333</td>\n",
       "      <td>0.243478</td>\n",
       "      <td>0.194030</td>\n",
       "      <td>0.144737</td>\n",
       "      <td>0.56</td>\n",
       "      <td>...</td>\n",
       "      <td>0.0</td>\n",
       "      <td>0.0</td>\n",
       "      <td>0.0</td>\n",
       "      <td>1.0</td>\n",
       "      <td>0.0</td>\n",
       "      <td>0.0</td>\n",
       "      <td>0.0</td>\n",
       "      <td>0.0</td>\n",
       "      <td>0.0</td>\n",
       "      <td>0.0</td>\n",
       "    </tr>\n",
       "    <tr>\n",
       "      <th>142300</th>\n",
       "      <td>0.719160</td>\n",
       "      <td>0.652273</td>\n",
       "      <td>0.0</td>\n",
       "      <td>0.068966</td>\n",
       "      <td>0.758621</td>\n",
       "      <td>0.933333</td>\n",
       "      <td>0.208696</td>\n",
       "      <td>0.253731</td>\n",
       "      <td>0.144737</td>\n",
       "      <td>0.46</td>\n",
       "      <td>...</td>\n",
       "      <td>0.0</td>\n",
       "      <td>0.0</td>\n",
       "      <td>0.0</td>\n",
       "      <td>0.0</td>\n",
       "      <td>0.0</td>\n",
       "      <td>0.0</td>\n",
       "      <td>0.0</td>\n",
       "      <td>0.0</td>\n",
       "      <td>0.0</td>\n",
       "      <td>0.0</td>\n",
       "    </tr>\n",
       "    <tr>\n",
       "      <th>142301</th>\n",
       "      <td>0.687664</td>\n",
       "      <td>0.629545</td>\n",
       "      <td>0.0</td>\n",
       "      <td>0.076355</td>\n",
       "      <td>0.731034</td>\n",
       "      <td>0.866667</td>\n",
       "      <td>0.147826</td>\n",
       "      <td>0.134328</td>\n",
       "      <td>0.223684</td>\n",
       "      <td>0.62</td>\n",
       "      <td>...</td>\n",
       "      <td>0.0</td>\n",
       "      <td>0.0</td>\n",
       "      <td>0.0</td>\n",
       "      <td>1.0</td>\n",
       "      <td>0.0</td>\n",
       "      <td>0.0</td>\n",
       "      <td>0.0</td>\n",
       "      <td>0.0</td>\n",
       "      <td>0.0</td>\n",
       "      <td>0.0</td>\n",
       "    </tr>\n",
       "    <tr>\n",
       "      <th>142302</th>\n",
       "      <td>0.706037</td>\n",
       "      <td>0.627273</td>\n",
       "      <td>0.0</td>\n",
       "      <td>0.068966</td>\n",
       "      <td>0.737931</td>\n",
       "      <td>0.533333</td>\n",
       "      <td>0.182609</td>\n",
       "      <td>0.223881</td>\n",
       "      <td>0.092105</td>\n",
       "      <td>0.73</td>\n",
       "      <td>...</td>\n",
       "      <td>0.0</td>\n",
       "      <td>0.0</td>\n",
       "      <td>0.0</td>\n",
       "      <td>0.0</td>\n",
       "      <td>0.0</td>\n",
       "      <td>0.0</td>\n",
       "      <td>0.0</td>\n",
       "      <td>0.0</td>\n",
       "      <td>0.0</td>\n",
       "      <td>0.0</td>\n",
       "    </tr>\n",
       "  </tbody>\n",
       "</table>\n",
       "<p>58080 rows × 48 columns</p>\n",
       "</div>"
      ],
      "text/plain": [
       "         MinTemp   MaxTemp  Rainfall  Evaporation  Sunshine  WindGustDir  \\\n",
       "6049    0.645669  0.706818       0.0     0.147783  0.848276     1.000000   \n",
       "6050    0.658793  0.563636       0.0     0.182266  0.896552     0.666667   \n",
       "6052    0.685039  0.761364       0.0     0.133005  0.731034     0.400000   \n",
       "6053    0.750656  0.779545       0.0     0.140394  0.841379     0.066667   \n",
       "6054    0.811024  0.838636       0.0     0.137931  0.579310     0.066667   \n",
       "...          ...       ...       ...          ...       ...          ...   \n",
       "142298  0.682415  0.665909       0.0     0.073892  0.758621     0.533333   \n",
       "142299  0.732283  0.647727       0.0     0.093596  0.593103     0.933333   \n",
       "142300  0.719160  0.652273       0.0     0.068966  0.758621     0.933333   \n",
       "142301  0.687664  0.629545       0.0     0.076355  0.731034     0.866667   \n",
       "142302  0.706037  0.627273       0.0     0.068966  0.737931     0.533333   \n",
       "\n",
       "        WindGustSpeed  WindSpeed9am  WindSpeed3pm  Humidity9am  ...  \\\n",
       "6049         0.339130      0.089552      0.263158         0.20  ...   \n",
       "6050         0.243478      0.283582      0.250000         0.30  ...   \n",
       "6052         0.321739      0.447761      0.197368         0.42  ...   \n",
       "6053         0.191304      0.089552      0.078947         0.37  ...   \n",
       "6054         0.226087      0.253731      0.171053         0.19  ...   \n",
       "...               ...           ...           ...          ...  ...   \n",
       "142298       0.226087      0.134328      0.263158         0.63  ...   \n",
       "142299       0.243478      0.194030      0.144737         0.56  ...   \n",
       "142300       0.208696      0.253731      0.144737         0.46  ...   \n",
       "142301       0.147826      0.134328      0.223684         0.62  ...   \n",
       "142302       0.182609      0.223881      0.092105         0.73  ...   \n",
       "\n",
       "        WindDir9am_NNW  WindDir9am_NW  WindDir9am_S  WindDir9am_SE  \\\n",
       "6049               0.0            0.0           0.0            0.0   \n",
       "6050               0.0            0.0           0.0            0.0   \n",
       "6052               0.0            0.0           0.0            0.0   \n",
       "6053               0.0            0.0           0.0            0.0   \n",
       "6054               0.0            1.0           0.0            0.0   \n",
       "...                ...            ...           ...            ...   \n",
       "142298             0.0            0.0           0.0            1.0   \n",
       "142299             0.0            0.0           0.0            1.0   \n",
       "142300             0.0            0.0           0.0            0.0   \n",
       "142301             0.0            0.0           0.0            1.0   \n",
       "142302             0.0            0.0           0.0            0.0   \n",
       "\n",
       "        WindDir9am_SSE  WindDir9am_SSW  WindDir9am_SW  WindDir9am_W  \\\n",
       "6049               0.0             0.0            0.0           0.0   \n",
       "6050               1.0             0.0            0.0           0.0   \n",
       "6052               0.0             0.0            0.0           0.0   \n",
       "6053               0.0             0.0            0.0           0.0   \n",
       "6054               0.0             0.0            0.0           0.0   \n",
       "...                ...             ...            ...           ...   \n",
       "142298             0.0             0.0            0.0           0.0   \n",
       "142299             0.0             0.0            0.0           0.0   \n",
       "142300             0.0             0.0            0.0           0.0   \n",
       "142301             0.0             0.0            0.0           0.0   \n",
       "142302             0.0             0.0            0.0           0.0   \n",
       "\n",
       "        WindDir9am_WNW  WindDir9am_WSW  \n",
       "6049               0.0             0.0  \n",
       "6050               0.0             0.0  \n",
       "6052               0.0             0.0  \n",
       "6053               1.0             0.0  \n",
       "6054               0.0             0.0  \n",
       "...                ...             ...  \n",
       "142298             0.0             0.0  \n",
       "142299             0.0             0.0  \n",
       "142300             0.0             0.0  \n",
       "142301             0.0             0.0  \n",
       "142302             0.0             0.0  \n",
       "\n",
       "[58080 rows x 48 columns]"
      ]
     },
     "execution_count": 92,
     "metadata": {},
     "output_type": "execute_result"
    }
   ],
   "source": [
    "X = df.drop(labels = ['RainTomorrow'], axis = 1)\n",
    "X"
   ]
  },
  {
   "cell_type": "code",
   "execution_count": 93,
   "metadata": {},
   "outputs": [
    {
     "data": {
      "text/plain": [
       "6049      0.0\n",
       "6050      0.0\n",
       "6052      0.0\n",
       "6053      0.0\n",
       "6054      0.0\n",
       "         ... \n",
       "142298    0.0\n",
       "142299    0.0\n",
       "142300    0.0\n",
       "142301    0.0\n",
       "142302    0.0\n",
       "Name: RainTomorrow, Length: 58080, dtype: float64"
      ]
     },
     "execution_count": 93,
     "metadata": {},
     "output_type": "execute_result"
    }
   ],
   "source": [
    "y = df['RainTomorrow']\n",
    "y"
   ]
  },
  {
   "cell_type": "code",
   "execution_count": 94,
   "metadata": {},
   "outputs": [],
   "source": [
    "# Splitting the dataset\n",
    "from sklearn.model_selection import train_test_split\n",
    "\n",
    "X_train_val, X_test, y_train_val, y_test = train_test_split(X, y, test_size=0.2, random_state=42)\n",
    "\n",
    "X_train, X_val, y_train, y_val = train_test_split(X_train_val, y_train_val, test_size=0.2, random_state=42)"
   ]
  },
  {
   "cell_type": "code",
   "execution_count": 95,
   "metadata": {},
   "outputs": [
    {
     "data": {
      "text/plain": [
       "(37171, 48)"
      ]
     },
     "execution_count": 95,
     "metadata": {},
     "output_type": "execute_result"
    }
   ],
   "source": [
    "X_train.shape"
   ]
  },
  {
   "cell_type": "code",
   "execution_count": 96,
   "metadata": {},
   "outputs": [
    {
     "data": {
      "text/plain": [
       "(9293, 48)"
      ]
     },
     "execution_count": 96,
     "metadata": {},
     "output_type": "execute_result"
    }
   ],
   "source": [
    "X_val.shape"
   ]
  },
  {
   "cell_type": "code",
   "execution_count": 97,
   "metadata": {},
   "outputs": [
    {
     "data": {
      "text/plain": [
       "(11616, 48)"
      ]
     },
     "execution_count": 97,
     "metadata": {},
     "output_type": "execute_result"
    }
   ],
   "source": [
    "X_test.shape"
   ]
  },
  {
   "cell_type": "code",
   "execution_count": 98,
   "metadata": {},
   "outputs": [],
   "source": [
    "# Dimension Reduction to keep 95% of the variance. Reducing 16 variables!\n",
    "\n",
    "from sklearn.decomposition import PCA\n",
    "\n",
    "pca = PCA(n_components = 0.95)\n",
    "X_train = pca.fit_transform(X_train)\n",
    "\n",
    "X_val = pca.transform(X_val)\n",
    "X_test = pca.transform(X_test)"
   ]
  },
  {
   "cell_type": "code",
   "execution_count": 99,
   "metadata": {},
   "outputs": [
    {
     "data": {
      "text/plain": [
       "(37171, 33)"
      ]
     },
     "execution_count": 99,
     "metadata": {},
     "output_type": "execute_result"
    }
   ],
   "source": [
    "X_train.shape"
   ]
  },
  {
   "cell_type": "code",
   "execution_count": 100,
   "metadata": {},
   "outputs": [
    {
     "data": {
      "text/plain": [
       "(9293, 33)"
      ]
     },
     "execution_count": 100,
     "metadata": {},
     "output_type": "execute_result"
    }
   ],
   "source": [
    "X_val.shape"
   ]
  },
  {
   "cell_type": "code",
   "execution_count": 101,
   "metadata": {},
   "outputs": [
    {
     "data": {
      "text/plain": [
       "(11616, 33)"
      ]
     },
     "execution_count": 101,
     "metadata": {},
     "output_type": "execute_result"
    }
   ],
   "source": [
    "X_test.shape"
   ]
  },
  {
   "cell_type": "markdown",
   "metadata": {},
   "source": [
    "# Models"
   ]
  },
  {
   "cell_type": "markdown",
   "metadata": {},
   "source": [
    "## Logistic Regression"
   ]
  },
  {
   "cell_type": "code",
   "execution_count": 65,
   "metadata": {},
   "outputs": [
    {
     "data": {
      "text/plain": [
       "LogisticRegression(C=1.0, class_weight=None, dual=False, fit_intercept=True,\n",
       "                   intercept_scaling=1, l1_ratio=None, max_iter=100,\n",
       "                   multi_class='auto', n_jobs=None, penalty='l2',\n",
       "                   random_state=None, solver='lbfgs', tol=0.0001, verbose=0,\n",
       "                   warm_start=False)"
      ]
     },
     "execution_count": 65,
     "metadata": {},
     "output_type": "execute_result"
    }
   ],
   "source": [
    "from sklearn.linear_model import LogisticRegression\n",
    "from sklearn.metrics import accuracy_score, confusion_matrix\n",
    "\n",
    "model_lr = LogisticRegression()\n",
    "model_lr.fit(X_train, y_train)"
   ]
  },
  {
   "cell_type": "code",
   "execution_count": 66,
   "metadata": {
    "scrolled": true
   },
   "outputs": [
    {
     "data": {
      "text/plain": [
       "array([[27180,  1790],\n",
       "       [ 4519,  3682]], dtype=int64)"
      ]
     },
     "execution_count": 66,
     "metadata": {},
     "output_type": "execute_result"
    }
   ],
   "source": [
    "X_train_pred = model_lr.predict(X_train)\n",
    "confusion_matrix(y_train, X_train_pred)"
   ]
  },
  {
   "cell_type": "code",
   "execution_count": 67,
   "metadata": {},
   "outputs": [
    {
     "name": "stdout",
     "output_type": "stream",
     "text": [
      "accuracy on training set:  0.8302709101181028\n"
     ]
    }
   ],
   "source": [
    "accuracy_lr_train = accuracy_score(y_train, X_train_pred)\n",
    "print(\"accuracy on training set: \", accuracy_lr_train)"
   ]
  },
  {
   "cell_type": "code",
   "execution_count": 71,
   "metadata": {},
   "outputs": [
    {
     "data": {
      "text/plain": [
       "GridSearchCV(cv=5, error_score=nan,\n",
       "             estimator=LogisticRegression(C=1.0, class_weight=None, dual=False,\n",
       "                                          fit_intercept=True,\n",
       "                                          intercept_scaling=1, l1_ratio=None,\n",
       "                                          max_iter=100, multi_class='auto',\n",
       "                                          n_jobs=None, penalty='l2',\n",
       "                                          random_state=None, solver='lbfgs',\n",
       "                                          tol=0.0001, verbose=0,\n",
       "                                          warm_start=False),\n",
       "             iid='deprecated', n_jobs=-1,\n",
       "             param_grid={'C': [0.001, 0.01, 0.1, 1, 10, 100],\n",
       "                         'penalty': ['l1', 'l2']},\n",
       "             pre_dispatch='2*n_jobs', refit=True, return_train_score=False,\n",
       "             scoring=None, verbose=0)"
      ]
     },
     "execution_count": 71,
     "metadata": {},
     "output_type": "execute_result"
    }
   ],
   "source": [
    "from sklearn.model_selection import GridSearchCV\n",
    "from sklearn.model_selection import RandomizedSearchCV\n",
    "\n",
    "penalty = ['l1', 'l2']\n",
    "C = [0.001, 0.01, 0.1, 1, 10, 100]\n",
    "hyperparameters = dict(C=C, penalty=penalty)\n",
    "\n",
    "best_model_lr = RandomizedSearchCV(model_lr, hyperparameters, random_state=42, n_iter=100, cv=5, verbose=0, n_jobs=-1)\n",
    "best_model_lr.fit(X_val, y_val)"
   ]
  },
  {
   "cell_type": "code",
   "execution_count": 72,
   "metadata": {
    "scrolled": true
   },
   "outputs": [
    {
     "data": {
      "text/plain": [
       "{'C': 1, 'penalty': 'l2'}"
      ]
     },
     "execution_count": 72,
     "metadata": {},
     "output_type": "execute_result"
    }
   ],
   "source": [
    "best_model_lr.best_params_"
   ]
  },
  {
   "cell_type": "code",
   "execution_count": 73,
   "metadata": {},
   "outputs": [
    {
     "data": {
      "text/plain": [
       "array([[6909,  428],\n",
       "       [1099,  857]], dtype=int64)"
      ]
     },
     "execution_count": 73,
     "metadata": {},
     "output_type": "execute_result"
    }
   ],
   "source": [
    "X_val_pred = best_model_lr.predict(X_val)\n",
    "confusion_matrix(y_val, X_val_pred)"
   ]
  },
  {
   "cell_type": "code",
   "execution_count": 74,
   "metadata": {},
   "outputs": [
    {
     "name": "stdout",
     "output_type": "stream",
     "text": [
      "best model's accuracy on validation set:  0.8356827719789088\n"
     ]
    }
   ],
   "source": [
    "accuracy_lr_val = accuracy_score(y_val, X_val_pred)\n",
    "print(\"best model's accuracy on validation set: \", accuracy_lr_val)"
   ]
  },
  {
   "cell_type": "code",
   "execution_count": 75,
   "metadata": {},
   "outputs": [
    {
     "data": {
      "text/plain": [
       "array([[8508,  539],\n",
       "       [1414, 1155]], dtype=int64)"
      ]
     },
     "execution_count": 75,
     "metadata": {},
     "output_type": "execute_result"
    }
   ],
   "source": [
    "X_test_pred = best_model_lr.predict(X_test)\n",
    "confusion_matrix(y_test, X_test_pred)"
   ]
  },
  {
   "cell_type": "code",
   "execution_count": null,
   "metadata": {},
   "outputs": [],
   "source": []
  },
  {
   "cell_type": "code",
   "execution_count": 34,
   "metadata": {},
   "outputs": [
    {
     "data": {
      "image/png": "[encoded data removed]",
      "text/plain": [
       "<Figure size 432x288 with 1 Axes>"
      ]
     },
     "metadata": {
      "needs_background": "light"
     },
     "output_type": "display_data"
    }
   ],
   "source": [
    "import matplotlib.pyplot as plt\n",
    "\n",
    "models = ('Train', 'Test')\n",
    "y_pos = np.arange(len(models))\n",
    "accuracy = [accuracy_lr_train*100, accuracy_lr_test*100]\n",
    "\n",
    "plt.bar(y_pos, accuracy, align='center', alpha=0.5, color = 'black')\n",
    "plt.xticks(y_pos, models)\n",
    "plt.ylabel('Accuracy')\n",
    "plt.title('Logistic Regression')\n",
    "plt.grid(True)\n",
    "\n",
    "plt.show()"
   ]
  },
  {
   "cell_type": "markdown",
   "metadata": {},
   "source": [
    "## Support Vector Machine"
   ]
  },
  {
   "cell_type": "code",
   "execution_count": 35,
   "metadata": {},
   "outputs": [
    {
     "data": {
      "text/plain": [
       "SVC(C=1.0, break_ties=False, cache_size=200, class_weight=None, coef0=0.0,\n",
       "    decision_function_shape='ovr', degree=3, gamma='scale', kernel='rbf',\n",
       "    max_iter=-1, probability=False, random_state=None, shrinking=True,\n",
       "    tol=0.001, verbose=False)"
      ]
     },
     "execution_count": 35,
     "metadata": {},
     "output_type": "execute_result"
    }
   ],
   "source": [
    "from sklearn import svm\n",
    "\n",
    "model_svm = clf_svc = svm.SVC()\n",
    "model_svm.fit(X_train, y_train)"
   ]
  },
  {
   "cell_type": "code",
   "execution_count": 36,
   "metadata": {},
   "outputs": [
    {
     "data": {
      "text/plain": [
       "array([[27902,  1068],\n",
       "       [ 4570,  3631]], dtype=int64)"
      ]
     },
     "execution_count": 36,
     "metadata": {},
     "output_type": "execute_result"
    }
   ],
   "source": [
    "X_train_pred = model_svm.predict(X_train)\n",
    "confusion_matrix(y_train, X_train_pred)"
   ]
  },
  {
   "cell_type": "code",
   "execution_count": 37,
   "metadata": {},
   "outputs": [
    {
     "name": "stdout",
     "output_type": "stream",
     "text": [
      "accuracy on training set:  0.848322617093971\n"
     ]
    }
   ],
   "source": [
    "accuracy_svm_train = accuracy_score(y_train, X_train_pred)\n",
    "print(\"accuracy on training set: \", accuracy_svm_train)"
   ]
  },
  {
   "cell_type": "code",
   "execution_count": 38,
   "metadata": {},
   "outputs": [
    {
     "name": "stdout",
     "output_type": "stream",
     "text": [
      "Fitting 5 folds for each of 25 candidates, totalling 125 fits\n",
      "[CV] C=0.1, gamma=1, kernel=rbf ......................................\n"
     ]
    },
    {
     "name": "stderr",
     "output_type": "stream",
     "text": [
      "[Parallel(n_jobs=1)]: Using backend SequentialBackend with 1 concurrent workers.\n"
     ]
    },
    {
     "name": "stdout",
     "output_type": "stream",
     "text": [
      "[CV] .......... C=0.1, gamma=1, kernel=rbf, score=0.792, total=   1.9s\n",
      "[CV] C=0.1, gamma=1, kernel=rbf ......................................\n"
     ]
    },
    {
     "name": "stderr",
     "output_type": "stream",
     "text": [
      "[Parallel(n_jobs=1)]: Done   1 out of   1 | elapsed:    1.8s remaining:    0.0s\n"
     ]
    },
    {
     "name": "stdout",
     "output_type": "stream",
     "text": [
      "[CV] .......... C=0.1, gamma=1, kernel=rbf, score=0.791, total=   1.9s\n",
      "[CV] C=0.1, gamma=1, kernel=rbf ......................................\n"
     ]
    },
    {
     "name": "stderr",
     "output_type": "stream",
     "text": [
      "[Parallel(n_jobs=1)]: Done   2 out of   2 | elapsed:    3.7s remaining:    0.0s\n"
     ]
    },
    {
     "name": "stdout",
     "output_type": "stream",
     "text": [
      "[CV] .......... C=0.1, gamma=1, kernel=rbf, score=0.791, total=   1.9s\n",
      "[CV] C=0.1, gamma=1, kernel=rbf ......................................\n",
      "[CV] .......... C=0.1, gamma=1, kernel=rbf, score=0.795, total=   1.9s\n",
      "[CV] C=0.1, gamma=1, kernel=rbf ......................................\n",
      "[CV] .......... C=0.1, gamma=1, kernel=rbf, score=0.791, total=   1.9s\n",
      "[CV] C=0.1, gamma=0.1, kernel=rbf ....................................\n",
      "[CV] ........ C=0.1, gamma=0.1, kernel=rbf, score=0.808, total=   1.5s\n",
      "[CV] C=0.1, gamma=0.1, kernel=rbf ....................................\n",
      "[CV] ........ C=0.1, gamma=0.1, kernel=rbf, score=0.820, total=   1.4s\n",
      "[CV] C=0.1, gamma=0.1, kernel=rbf ....................................\n",
      "[CV] ........ C=0.1, gamma=0.1, kernel=rbf, score=0.811, total=   1.4s\n",
      "[CV] C=0.1, gamma=0.1, kernel=rbf ....................................\n",
      "[CV] ........ C=0.1, gamma=0.1, kernel=rbf, score=0.817, total=   1.4s\n",
      "[CV] C=0.1, gamma=0.1, kernel=rbf ....................................\n",
      "[CV] ........ C=0.1, gamma=0.1, kernel=rbf, score=0.819, total=   1.4s\n",
      "[CV] C=0.1, gamma=0.01, kernel=rbf ...................................\n",
      "[CV] ....... C=0.1, gamma=0.01, kernel=rbf, score=0.790, total=   1.4s\n",
      "[CV] C=0.1, gamma=0.01, kernel=rbf ...................................\n",
      "[CV] ....... C=0.1, gamma=0.01, kernel=rbf, score=0.790, total=   1.4s\n",
      "[CV] C=0.1, gamma=0.01, kernel=rbf ...................................\n",
      "[CV] ....... C=0.1, gamma=0.01, kernel=rbf, score=0.789, total=   1.5s\n",
      "[CV] C=0.1, gamma=0.01, kernel=rbf ...................................\n",
      "[CV] ....... C=0.1, gamma=0.01, kernel=rbf, score=0.790, total=   1.5s\n",
      "[CV] C=0.1, gamma=0.01, kernel=rbf ...................................\n",
      "[CV] ....... C=0.1, gamma=0.01, kernel=rbf, score=0.790, total=   1.5s\n",
      "[CV] C=0.1, gamma=0.001, kernel=rbf ..................................\n",
      "[CV] ...... C=0.1, gamma=0.001, kernel=rbf, score=0.790, total=   1.4s\n",
      "[CV] C=0.1, gamma=0.001, kernel=rbf ..................................\n",
      "[CV] ...... C=0.1, gamma=0.001, kernel=rbf, score=0.790, total=   1.5s\n",
      "[CV] C=0.1, gamma=0.001, kernel=rbf ..................................\n",
      "[CV] ...... C=0.1, gamma=0.001, kernel=rbf, score=0.789, total=   1.4s\n",
      "[CV] C=0.1, gamma=0.001, kernel=rbf ..................................\n",
      "[CV] ...... C=0.1, gamma=0.001, kernel=rbf, score=0.790, total=   1.5s\n",
      "[CV] C=0.1, gamma=0.001, kernel=rbf ..................................\n",
      "[CV] ...... C=0.1, gamma=0.001, kernel=rbf, score=0.790, total=   1.5s\n",
      "[CV] C=0.1, gamma=0.0001, kernel=rbf .................................\n",
      "[CV] ..... C=0.1, gamma=0.0001, kernel=rbf, score=0.790, total=   1.4s\n",
      "[CV] C=0.1, gamma=0.0001, kernel=rbf .................................\n",
      "[CV] ..... C=0.1, gamma=0.0001, kernel=rbf, score=0.790, total=   1.5s\n",
      "[CV] C=0.1, gamma=0.0001, kernel=rbf .................................\n",
      "[CV] ..... C=0.1, gamma=0.0001, kernel=rbf, score=0.789, total=   1.5s\n",
      "[CV] C=0.1, gamma=0.0001, kernel=rbf .................................\n",
      "[CV] ..... C=0.1, gamma=0.0001, kernel=rbf, score=0.790, total=   1.4s\n",
      "[CV] C=0.1, gamma=0.0001, kernel=rbf .................................\n",
      "[CV] ..... C=0.1, gamma=0.0001, kernel=rbf, score=0.790, total=   1.4s\n",
      "[CV] C=1, gamma=1, kernel=rbf ........................................\n",
      "[CV] ............ C=1, gamma=1, kernel=rbf, score=0.826, total=   2.0s\n",
      "[CV] C=1, gamma=1, kernel=rbf ........................................\n",
      "[CV] ............ C=1, gamma=1, kernel=rbf, score=0.815, total=   1.7s\n",
      "[CV] C=1, gamma=1, kernel=rbf ........................................\n",
      "[CV] ............ C=1, gamma=1, kernel=rbf, score=0.822, total=   1.8s\n",
      "[CV] C=1, gamma=1, kernel=rbf ........................................\n",
      "[CV] ............ C=1, gamma=1, kernel=rbf, score=0.821, total=   1.7s\n",
      "[CV] C=1, gamma=1, kernel=rbf ........................................\n",
      "[CV] ............ C=1, gamma=1, kernel=rbf, score=0.824, total=   1.8s\n",
      "[CV] C=1, gamma=0.1, kernel=rbf ......................................\n",
      "[CV] .......... C=1, gamma=0.1, kernel=rbf, score=0.832, total=   1.4s\n",
      "[CV] C=1, gamma=0.1, kernel=rbf ......................................\n",
      "[CV] .......... C=1, gamma=0.1, kernel=rbf, score=0.828, total=   1.4s\n",
      "[CV] C=1, gamma=0.1, kernel=rbf ......................................\n",
      "[CV] .......... C=1, gamma=0.1, kernel=rbf, score=0.826, total=   1.4s\n",
      "[CV] C=1, gamma=0.1, kernel=rbf ......................................\n",
      "[CV] .......... C=1, gamma=0.1, kernel=rbf, score=0.823, total=   1.4s\n",
      "[CV] C=1, gamma=0.1, kernel=rbf ......................................\n",
      "[CV] .......... C=1, gamma=0.1, kernel=rbf, score=0.823, total=   1.4s\n",
      "[CV] C=1, gamma=0.01, kernel=rbf .....................................\n",
      "[CV] ......... C=1, gamma=0.01, kernel=rbf, score=0.825, total=   1.5s\n",
      "[CV] C=1, gamma=0.01, kernel=rbf .....................................\n",
      "[CV] ......... C=1, gamma=0.01, kernel=rbf, score=0.824, total=   1.5s\n",
      "[CV] C=1, gamma=0.01, kernel=rbf .....................................\n",
      "[CV] ......... C=1, gamma=0.01, kernel=rbf, score=0.824, total=   1.5s\n",
      "[CV] C=1, gamma=0.01, kernel=rbf .....................................\n",
      "[CV] ......... C=1, gamma=0.01, kernel=rbf, score=0.818, total=   1.4s\n",
      "[CV] C=1, gamma=0.01, kernel=rbf .....................................\n",
      "[CV] ......... C=1, gamma=0.01, kernel=rbf, score=0.824, total=   1.4s\n",
      "[CV] C=1, gamma=0.001, kernel=rbf ....................................\n",
      "[CV] ........ C=1, gamma=0.001, kernel=rbf, score=0.790, total=   1.4s\n",
      "[CV] C=1, gamma=0.001, kernel=rbf ....................................\n",
      "[CV] ........ C=1, gamma=0.001, kernel=rbf, score=0.790, total=   1.4s\n",
      "[CV] C=1, gamma=0.001, kernel=rbf ....................................\n",
      "[CV] ........ C=1, gamma=0.001, kernel=rbf, score=0.789, total=   1.4s\n",
      "[CV] C=1, gamma=0.001, kernel=rbf ....................................\n",
      "[CV] ........ C=1, gamma=0.001, kernel=rbf, score=0.790, total=   1.5s\n",
      "[CV] C=1, gamma=0.001, kernel=rbf ....................................\n",
      "[CV] ........ C=1, gamma=0.001, kernel=rbf, score=0.790, total=   1.4s\n",
      "[CV] C=1, gamma=0.0001, kernel=rbf ...................................\n",
      "[CV] ....... C=1, gamma=0.0001, kernel=rbf, score=0.790, total=   1.4s\n",
      "[CV] C=1, gamma=0.0001, kernel=rbf ...................................\n",
      "[CV] ....... C=1, gamma=0.0001, kernel=rbf, score=0.790, total=   1.4s\n",
      "[CV] C=1, gamma=0.0001, kernel=rbf ...................................\n",
      "[CV] ....... C=1, gamma=0.0001, kernel=rbf, score=0.789, total=   1.4s\n",
      "[CV] C=1, gamma=0.0001, kernel=rbf ...................................\n",
      "[CV] ....... C=1, gamma=0.0001, kernel=rbf, score=0.790, total=   1.4s\n",
      "[CV] C=1, gamma=0.0001, kernel=rbf ...................................\n",
      "[CV] ....... C=1, gamma=0.0001, kernel=rbf, score=0.790, total=   1.4s\n",
      "[CV] C=10, gamma=1, kernel=rbf .......................................\n",
      "[CV] ........... C=10, gamma=1, kernel=rbf, score=0.811, total=   2.1s\n",
      "[CV] C=10, gamma=1, kernel=rbf .......................................\n",
      "[CV] ........... C=10, gamma=1, kernel=rbf, score=0.785, total=   2.0s\n",
      "[CV] C=10, gamma=1, kernel=rbf .......................................\n",
      "[CV] ........... C=10, gamma=1, kernel=rbf, score=0.804, total=   2.0s\n",
      "[CV] C=10, gamma=1, kernel=rbf .......................................\n",
      "[CV] ........... C=10, gamma=1, kernel=rbf, score=0.818, total=   2.0s\n",
      "[CV] C=10, gamma=1, kernel=rbf .......................................\n",
      "[CV] ........... C=10, gamma=1, kernel=rbf, score=0.800, total=   2.0s\n",
      "[CV] C=10, gamma=0.1, kernel=rbf .....................................\n",
      "[CV] ......... C=10, gamma=0.1, kernel=rbf, score=0.847, total=   1.6s\n",
      "[CV] C=10, gamma=0.1, kernel=rbf .....................................\n",
      "[CV] ......... C=10, gamma=0.1, kernel=rbf, score=0.843, total=   1.5s\n",
      "[CV] C=10, gamma=0.1, kernel=rbf .....................................\n",
      "[CV] ......... C=10, gamma=0.1, kernel=rbf, score=0.839, total=   1.6s\n",
      "[CV] C=10, gamma=0.1, kernel=rbf .....................................\n",
      "[CV] ......... C=10, gamma=0.1, kernel=rbf, score=0.837, total=   1.6s\n",
      "[CV] C=10, gamma=0.1, kernel=rbf .....................................\n",
      "[CV] ......... C=10, gamma=0.1, kernel=rbf, score=0.839, total=   1.6s\n",
      "[CV] C=10, gamma=0.01, kernel=rbf ....................................\n",
      "[CV] ........ C=10, gamma=0.01, kernel=rbf, score=0.835, total=   1.4s\n",
      "[CV] C=10, gamma=0.01, kernel=rbf ....................................\n",
      "[CV] ........ C=10, gamma=0.01, kernel=rbf, score=0.832, total=   1.4s\n",
      "[CV] C=10, gamma=0.01, kernel=rbf ....................................\n",
      "[CV] ........ C=10, gamma=0.01, kernel=rbf, score=0.831, total=   1.4s\n",
      "[CV] C=10, gamma=0.01, kernel=rbf ....................................\n",
      "[CV] ........ C=10, gamma=0.01, kernel=rbf, score=0.825, total=   1.4s\n",
      "[CV] C=10, gamma=0.01, kernel=rbf ....................................\n",
      "[CV] ........ C=10, gamma=0.01, kernel=rbf, score=0.828, total=   1.4s\n",
      "[CV] C=10, gamma=0.001, kernel=rbf ...................................\n",
      "[CV] ....... C=10, gamma=0.001, kernel=rbf, score=0.826, total=   1.4s\n",
      "[CV] C=10, gamma=0.001, kernel=rbf ...................................\n",
      "[CV] ....... C=10, gamma=0.001, kernel=rbf, score=0.826, total=   1.4s\n",
      "[CV] C=10, gamma=0.001, kernel=rbf ...................................\n",
      "[CV] ....... C=10, gamma=0.001, kernel=rbf, score=0.824, total=   1.4s\n",
      "[CV] C=10, gamma=0.001, kernel=rbf ...................................\n",
      "[CV] ....... C=10, gamma=0.001, kernel=rbf, score=0.818, total=   1.4s\n",
      "[CV] C=10, gamma=0.001, kernel=rbf ...................................\n",
      "[CV] ....... C=10, gamma=0.001, kernel=rbf, score=0.826, total=   1.4s\n",
      "[CV] C=10, gamma=0.0001, kernel=rbf ..................................\n",
      "[CV] ...... C=10, gamma=0.0001, kernel=rbf, score=0.790, total=   1.4s\n",
      "[CV] C=10, gamma=0.0001, kernel=rbf ..................................\n",
      "[CV] ...... C=10, gamma=0.0001, kernel=rbf, score=0.790, total=   1.4s\n",
      "[CV] C=10, gamma=0.0001, kernel=rbf ..................................\n",
      "[CV] ...... C=10, gamma=0.0001, kernel=rbf, score=0.789, total=   1.4s\n",
      "[CV] C=10, gamma=0.0001, kernel=rbf ..................................\n",
      "[CV] ...... C=10, gamma=0.0001, kernel=rbf, score=0.790, total=   1.4s\n",
      "[CV] C=10, gamma=0.0001, kernel=rbf ..................................\n",
      "[CV] ...... C=10, gamma=0.0001, kernel=rbf, score=0.790, total=   1.4s\n",
      "[CV] C=100, gamma=1, kernel=rbf ......................................\n",
      "[CV] .......... C=100, gamma=1, kernel=rbf, score=0.779, total=   2.7s\n",
      "[CV] C=100, gamma=1, kernel=rbf ......................................\n",
      "[CV] .......... C=100, gamma=1, kernel=rbf, score=0.765, total=   2.6s\n",
      "[CV] C=100, gamma=1, kernel=rbf ......................................\n",
      "[CV] .......... C=100, gamma=1, kernel=rbf, score=0.779, total=   2.7s\n",
      "[CV] C=100, gamma=1, kernel=rbf ......................................\n",
      "[CV] .......... C=100, gamma=1, kernel=rbf, score=0.780, total=   2.7s\n",
      "[CV] C=100, gamma=1, kernel=rbf ......................................\n",
      "[CV] .......... C=100, gamma=1, kernel=rbf, score=0.769, total=   2.7s\n",
      "[CV] C=100, gamma=0.1, kernel=rbf ....................................\n",
      "[CV] ........ C=100, gamma=0.1, kernel=rbf, score=0.848, total=   2.6s\n",
      "[CV] C=100, gamma=0.1, kernel=rbf ....................................\n",
      "[CV] ........ C=100, gamma=0.1, kernel=rbf, score=0.833, total=   2.5s\n",
      "[CV] C=100, gamma=0.1, kernel=rbf ....................................\n",
      "[CV] ........ C=100, gamma=0.1, kernel=rbf, score=0.837, total=   2.6s\n",
      "[CV] C=100, gamma=0.1, kernel=rbf ....................................\n",
      "[CV] ........ C=100, gamma=0.1, kernel=rbf, score=0.841, total=   2.5s\n",
      "[CV] C=100, gamma=0.1, kernel=rbf ....................................\n",
      "[CV] ........ C=100, gamma=0.1, kernel=rbf, score=0.835, total=   2.4s\n",
      "[CV] C=100, gamma=0.01, kernel=rbf ...................................\n",
      "[CV] ....... C=100, gamma=0.01, kernel=rbf, score=0.836, total=   1.7s\n",
      "[CV] C=100, gamma=0.01, kernel=rbf ...................................\n",
      "[CV] ....... C=100, gamma=0.01, kernel=rbf, score=0.836, total=   1.7s\n",
      "[CV] C=100, gamma=0.01, kernel=rbf ...................................\n",
      "[CV] ....... C=100, gamma=0.01, kernel=rbf, score=0.831, total=   1.7s\n",
      "[CV] C=100, gamma=0.01, kernel=rbf ...................................\n",
      "[CV] ....... C=100, gamma=0.01, kernel=rbf, score=0.825, total=   1.6s\n",
      "[CV] C=100, gamma=0.01, kernel=rbf ...................................\n",
      "[CV] ....... C=100, gamma=0.01, kernel=rbf, score=0.828, total=   1.7s\n",
      "[CV] C=100, gamma=0.001, kernel=rbf ..................................\n",
      "[CV] ...... C=100, gamma=0.001, kernel=rbf, score=0.836, total=   1.4s\n",
      "[CV] C=100, gamma=0.001, kernel=rbf ..................................\n",
      "[CV] ...... C=100, gamma=0.001, kernel=rbf, score=0.831, total=   1.4s\n",
      "[CV] C=100, gamma=0.001, kernel=rbf ..................................\n",
      "[CV] ...... C=100, gamma=0.001, kernel=rbf, score=0.829, total=   1.4s\n",
      "[CV] C=100, gamma=0.001, kernel=rbf ..................................\n",
      "[CV] ...... C=100, gamma=0.001, kernel=rbf, score=0.828, total=   1.4s\n",
      "[CV] C=100, gamma=0.001, kernel=rbf ..................................\n",
      "[CV] ...... C=100, gamma=0.001, kernel=rbf, score=0.827, total=   1.4s\n",
      "[CV] C=100, gamma=0.0001, kernel=rbf .................................\n",
      "[CV] ..... C=100, gamma=0.0001, kernel=rbf, score=0.826, total=   1.4s\n",
      "[CV] C=100, gamma=0.0001, kernel=rbf .................................\n",
      "[CV] ..... C=100, gamma=0.0001, kernel=rbf, score=0.827, total=   1.4s\n",
      "[CV] C=100, gamma=0.0001, kernel=rbf .................................\n",
      "[CV] ..... C=100, gamma=0.0001, kernel=rbf, score=0.824, total=   1.4s\n",
      "[CV] C=100, gamma=0.0001, kernel=rbf .................................\n",
      "[CV] ..... C=100, gamma=0.0001, kernel=rbf, score=0.819, total=   1.4s\n",
      "[CV] C=100, gamma=0.0001, kernel=rbf .................................\n",
      "[CV] ..... C=100, gamma=0.0001, kernel=rbf, score=0.826, total=   1.4s\n",
      "[CV] C=1000, gamma=1, kernel=rbf .....................................\n",
      "[CV] ......... C=1000, gamma=1, kernel=rbf, score=0.762, total=   3.2s\n",
      "[CV] C=1000, gamma=1, kernel=rbf .....................................\n",
      "[CV] ......... C=1000, gamma=1, kernel=rbf, score=0.756, total=   3.2s\n",
      "[CV] C=1000, gamma=1, kernel=rbf .....................................\n",
      "[CV] ......... C=1000, gamma=1, kernel=rbf, score=0.771, total=   3.1s\n",
      "[CV] C=1000, gamma=1, kernel=rbf .....................................\n",
      "[CV] ......... C=1000, gamma=1, kernel=rbf, score=0.773, total=   3.2s\n",
      "[CV] C=1000, gamma=1, kernel=rbf .....................................\n",
      "[CV] ......... C=1000, gamma=1, kernel=rbf, score=0.765, total=   3.3s\n",
      "[CV] C=1000, gamma=0.1, kernel=rbf ...................................\n",
      "[CV] ....... C=1000, gamma=0.1, kernel=rbf, score=0.825, total=   7.3s\n",
      "[CV] C=1000, gamma=0.1, kernel=rbf ...................................\n",
      "[CV] ....... C=1000, gamma=0.1, kernel=rbf, score=0.816, total=   9.0s\n",
      "[CV] C=1000, gamma=0.1, kernel=rbf ...................................\n",
      "[CV] ....... C=1000, gamma=0.1, kernel=rbf, score=0.818, total=   7.7s\n",
      "[CV] C=1000, gamma=0.1, kernel=rbf ...................................\n",
      "[CV] ....... C=1000, gamma=0.1, kernel=rbf, score=0.823, total=   7.1s\n",
      "[CV] C=1000, gamma=0.1, kernel=rbf ...................................\n",
      "[CV] ....... C=1000, gamma=0.1, kernel=rbf, score=0.812, total=   7.6s\n",
      "[CV] C=1000, gamma=0.01, kernel=rbf ..................................\n",
      "[CV] ...... C=1000, gamma=0.01, kernel=rbf, score=0.852, total=   2.9s\n",
      "[CV] C=1000, gamma=0.01, kernel=rbf ..................................\n",
      "[CV] ...... C=1000, gamma=0.01, kernel=rbf, score=0.846, total=   2.7s\n",
      "[CV] C=1000, gamma=0.01, kernel=rbf ..................................\n",
      "[CV] ...... C=1000, gamma=0.01, kernel=rbf, score=0.843, total=   2.7s\n",
      "[CV] C=1000, gamma=0.01, kernel=rbf ..................................\n",
      "[CV] ...... C=1000, gamma=0.01, kernel=rbf, score=0.836, total=   2.8s\n",
      "[CV] C=1000, gamma=0.01, kernel=rbf ..................................\n",
      "[CV] ...... C=1000, gamma=0.01, kernel=rbf, score=0.839, total=   2.7s\n",
      "[CV] C=1000, gamma=0.001, kernel=rbf .................................\n",
      "[CV] ..... C=1000, gamma=0.001, kernel=rbf, score=0.835, total=   1.6s\n",
      "[CV] C=1000, gamma=0.001, kernel=rbf .................................\n",
      "[CV] ..... C=1000, gamma=0.001, kernel=rbf, score=0.835, total=   1.6s\n",
      "[CV] C=1000, gamma=0.001, kernel=rbf .................................\n",
      "[CV] ..... C=1000, gamma=0.001, kernel=rbf, score=0.829, total=   1.6s\n",
      "[CV] C=1000, gamma=0.001, kernel=rbf .................................\n",
      "[CV] ..... C=1000, gamma=0.001, kernel=rbf, score=0.828, total=   1.6s\n",
      "[CV] C=1000, gamma=0.001, kernel=rbf .................................\n",
      "[CV] ..... C=1000, gamma=0.001, kernel=rbf, score=0.829, total=   1.6s\n",
      "[CV] C=1000, gamma=0.0001, kernel=rbf ................................\n",
      "[CV] .... C=1000, gamma=0.0001, kernel=rbf, score=0.838, total=   1.3s\n",
      "[CV] C=1000, gamma=0.0001, kernel=rbf ................................\n",
      "[CV] .... C=1000, gamma=0.0001, kernel=rbf, score=0.831, total=   1.3s\n",
      "[CV] C=1000, gamma=0.0001, kernel=rbf ................................\n",
      "[CV] .... C=1000, gamma=0.0001, kernel=rbf, score=0.831, total=   1.3s\n",
      "[CV] C=1000, gamma=0.0001, kernel=rbf ................................\n",
      "[CV] .... C=1000, gamma=0.0001, kernel=rbf, score=0.827, total=   1.3s\n",
      "[CV] C=1000, gamma=0.0001, kernel=rbf ................................\n",
      "[CV] .... C=1000, gamma=0.0001, kernel=rbf, score=0.828, total=   1.4s\n"
     ]
    },
    {
     "name": "stderr",
     "output_type": "stream",
     "text": [
      "[Parallel(n_jobs=1)]: Done 125 out of 125 | elapsed:  4.1min finished\n"
     ]
    },
    {
     "data": {
      "text/plain": [
       "GridSearchCV(cv=None, error_score=nan,\n",
       "             estimator=SVC(C=1.0, break_ties=False, cache_size=200,\n",
       "                           class_weight=None, coef0=0.0,\n",
       "                           decision_function_shape='ovr', degree=3,\n",
       "                           gamma='scale', kernel='rbf', max_iter=-1,\n",
       "                           probability=False, random_state=None, shrinking=True,\n",
       "                           tol=0.001, verbose=False),\n",
       "             iid='deprecated', n_jobs=None,\n",
       "             param_grid={'C': [0.1, 1, 10, 100, 1000],\n",
       "                         'gamma': [1, 0.1, 0.01, 0.001, 0.0001],\n",
       "                         'kernel': ['rbf']},\n",
       "             pre_dispatch='2*n_jobs', refit=True, return_train_score=False,\n",
       "             scoring=None, verbose=3)"
      ]
     },
     "execution_count": 38,
     "metadata": {},
     "output_type": "execute_result"
    }
   ],
   "source": [
    "param_grid = {'C': [0.1, 1, 10, 100, 1000],  \n",
    "              'gamma': [1, 0.1, 0.01, 0.001, 0.0001], \n",
    "              'kernel': ['rbf']}  \n",
    "  \n",
    "best_model_svm = GridSearchCV(model_svm, param_grid, verbose = 3) \n",
    "\n",
    "best_model_svm.fit(X_val, y_val)"
   ]
  },
  {
   "cell_type": "code",
   "execution_count": 39,
   "metadata": {},
   "outputs": [
    {
     "data": {
      "text/plain": [
       "{'C': 1000, 'gamma': 0.01, 'kernel': 'rbf'}"
      ]
     },
     "execution_count": 39,
     "metadata": {},
     "output_type": "execute_result"
    }
   ],
   "source": [
    "best_model_svm.best_params_"
   ]
  },
  {
   "cell_type": "code",
   "execution_count": 40,
   "metadata": {},
   "outputs": [
    {
     "data": {
      "text/plain": [
       "array([[7050,  287],\n",
       "       [1039,  917]], dtype=int64)"
      ]
     },
     "execution_count": 40,
     "metadata": {},
     "output_type": "execute_result"
    }
   ],
   "source": [
    "X_val_pred = best_model_svm.predict(X_val)\n",
    "confusion_matrix(y_val, X_val_pred)"
   ]
  },
  {
   "cell_type": "code",
   "execution_count": 41,
   "metadata": {},
   "outputs": [
    {
     "name": "stdout",
     "output_type": "stream",
     "text": [
      "best model's accuracy on validation set:  0.8573119552351232\n"
     ]
    }
   ],
   "source": [
    "accuracy_svm_val = accuracy_score(y_val, X_val_pred)\n",
    "print(\"best model's accuracy on validation set: \", accuracy_svm_val)"
   ]
  },
  {
   "cell_type": "code",
   "execution_count": 42,
   "metadata": {},
   "outputs": [
    {
     "data": {
      "text/plain": [
       "array([[8618,  429],\n",
       "       [1450, 1119]], dtype=int64)"
      ]
     },
     "execution_count": 42,
     "metadata": {},
     "output_type": "execute_result"
    }
   ],
   "source": [
    "X_test_pred = best_model_svm.predict(X_test)\n",
    "confusion_matrix(y_test, X_test_pred)"
   ]
  },
  {
   "cell_type": "code",
   "execution_count": 43,
   "metadata": {},
   "outputs": [
    {
     "name": "stdout",
     "output_type": "stream",
     "text": [
      "accuracy on test set:  0.8382403581267218\n"
     ]
    }
   ],
   "source": [
    "accuracy_svm_test = accuracy_score(y_test, X_test_pred)\n",
    "print(\"accuracy on test set: \", accuracy_svm_test)"
   ]
  },
  {
   "cell_type": "code",
   "execution_count": 44,
   "metadata": {},
   "outputs": [
    {
     "data": {
      "image/png": "[encoded data removed]",
      "text/plain": [
       "<Figure size 432x288 with 1 Axes>"
      ]
     },
     "metadata": {
      "needs_background": "light"
     },
     "output_type": "display_data"
    }
   ],
   "source": [
    "models = ('Train', 'Test')\n",
    "y_pos = np.arange(len(models))\n",
    "accuracy = [accuracy_svm_train*100, accuracy_svm_test*100]\n",
    "\n",
    "plt.bar(y_pos, accuracy, align='center', alpha=0.5, color = 'black')\n",
    "plt.xticks(y_pos, models)\n",
    "plt.ylabel('Accuracy')\n",
    "plt.title('Support Vector Machine')\n",
    "plt.grid(True)\n",
    "\n",
    "plt.show()"
   ]
  },
  {
   "cell_type": "code",
   "execution_count": 105,
   "metadata": {},
   "outputs": [
    {
     "data": {
      "image/png": "[encoded data removed]",
      "text/plain": [
       "<Figure size 432x288 with 1 Axes>"
      ]
     },
     "metadata": {
      "needs_background": "light"
     },
     "output_type": "display_data"
    }
   ],
   "source": [
    "models = ('Train', 'Test')\n",
    "y_pos = np.arange(len(models))\n",
    "accuracy = [79.4, 78.2]\n",
    "\n",
    "plt.bar(y_pos, accuracy, align='center', alpha=0.5, color = 'black')\n",
    "plt.xticks(y_pos, models)\n",
    "plt.ylabel('Accuracy')\n",
    "plt.title('Gradient Boost')\n",
    "plt.grid(True)\n",
    "\n",
    "plt.show()"
   ]
  },
  {
   "cell_type": "markdown",
   "metadata": {},
   "source": [
    "## Gradient Boost Classifier"
   ]
  },
  {
   "cell_type": "code",
   "execution_count": 45,
   "metadata": {},
   "outputs": [
    {
     "data": {
      "text/plain": [
       "GradientBoostingClassifier(ccp_alpha=0.0, criterion='friedman_mse', init=None,\n",
       "                           learning_rate=0.1, loss='deviance', max_depth=3,\n",
       "                           max_features=None, max_leaf_nodes=None,\n",
       "                           min_impurity_decrease=0.0, min_impurity_split=None,\n",
       "                           min_samples_leaf=1, min_samples_split=2,\n",
       "                           min_weight_fraction_leaf=0.0, n_estimators=100,\n",
       "                           n_iter_no_change=None, presort='deprecated',\n",
       "                           random_state=None, subsample=1.0, tol=0.0001,\n",
       "                           validation_fraction=0.1, verbose=0,\n",
       "                           warm_start=False)"
      ]
     },
     "execution_count": 45,
     "metadata": {},
     "output_type": "execute_result"
    }
   ],
   "source": [
    "model_gb = GradientBoostingClassifier()\n",
    "model_gb.fit(X_train, y_train)"
   ]
  },
  {
   "cell_type": "code",
   "execution_count": 46,
   "metadata": {},
   "outputs": [
    {
     "data": {
      "text/plain": [
       "array([[27560,  1410],\n",
       "       [ 4479,  3722]], dtype=int64)"
      ]
     },
     "execution_count": 46,
     "metadata": {},
     "output_type": "execute_result"
    }
   ],
   "source": [
    "X_train_pred = model_gb.predict(X_train)\n",
    "confusion_matrix(y_train, X_train_pred)"
   ]
  },
  {
   "cell_type": "code",
   "execution_count": 47,
   "metadata": {},
   "outputs": [
    {
     "name": "stdout",
     "output_type": "stream",
     "text": [
      "accuracy on training set:  0.8415700411611202\n"
     ]
    }
   ],
   "source": [
    "accuracy_gb_train = accuracy_score(y_train, X_train_pred)\n",
    "print(\"accuracy on training set: \", accuracy_gb_train)"
   ]
  },
  {
   "cell_type": "code",
   "execution_count": 48,
   "metadata": {
    "scrolled": true
   },
   "outputs": [
    {
     "name": "stdout",
     "output_type": "stream",
     "text": [
      "Fitting 5 folds for each of 45 candidates, totalling 225 fits\n",
      "[CV] learning_rate=0.001, max_depth=10, n_estimators=1 ...............\n",
      "[CV]  learning_rate=0.001, max_depth=10, n_estimators=1, score=0.790, total=   0.2s\n"
     ]
    },
    {
     "name": "stderr",
     "output_type": "stream",
     "text": [
      "[Parallel(n_jobs=1)]: Using backend SequentialBackend with 1 concurrent workers.\n"
     ]
    },
    {
     "name": "stdout",
     "output_type": "stream",
     "text": [
      "[CV] learning_rate=0.001, max_depth=10, n_estimators=1 ...............\n",
      "[CV]  learning_rate=0.001, max_depth=10, n_estimators=1, score=0.790, total=   0.2s\n",
      "[CV] learning_rate=0.001, max_depth=10, n_estimators=1 ...............\n"
     ]
    },
    {
     "name": "stderr",
     "output_type": "stream",
     "text": [
      "[Parallel(n_jobs=1)]: Done   1 out of   1 | elapsed:    0.1s remaining:    0.0s\n",
      "[Parallel(n_jobs=1)]: Done   2 out of   2 | elapsed:    0.3s remaining:    0.0s\n"
     ]
    },
    {
     "name": "stdout",
     "output_type": "stream",
     "text": [
      "[CV]  learning_rate=0.001, max_depth=10, n_estimators=1, score=0.789, total=   0.2s\n",
      "[CV] learning_rate=0.001, max_depth=10, n_estimators=1 ...............\n",
      "[CV]  learning_rate=0.001, max_depth=10, n_estimators=1, score=0.790, total=   0.2s\n",
      "[CV] learning_rate=0.001, max_depth=10, n_estimators=1 ...............\n",
      "[CV]  learning_rate=0.001, max_depth=10, n_estimators=1, score=0.790, total=   0.2s\n",
      "[CV] learning_rate=0.001, max_depth=10, n_estimators=10 ..............\n",
      "[CV]  learning_rate=0.001, max_depth=10, n_estimators=10, score=0.790, total=   1.8s\n",
      "[CV] learning_rate=0.001, max_depth=10, n_estimators=10 ..............\n",
      "[CV]  learning_rate=0.001, max_depth=10, n_estimators=10, score=0.790, total=   1.8s\n",
      "[CV] learning_rate=0.001, max_depth=10, n_estimators=10 ..............\n",
      "[CV]  learning_rate=0.001, max_depth=10, n_estimators=10, score=0.789, total=   1.8s\n",
      "[CV] learning_rate=0.001, max_depth=10, n_estimators=10 ..............\n",
      "[CV]  learning_rate=0.001, max_depth=10, n_estimators=10, score=0.790, total=   1.8s\n",
      "[CV] learning_rate=0.001, max_depth=10, n_estimators=10 ..............\n",
      "[CV]  learning_rate=0.001, max_depth=10, n_estimators=10, score=0.790, total=   1.8s\n",
      "[CV] learning_rate=0.001, max_depth=10, n_estimators=100 .............\n",
      "[CV]  learning_rate=0.001, max_depth=10, n_estimators=100, score=0.790, total=  18.2s\n",
      "[CV] learning_rate=0.001, max_depth=10, n_estimators=100 .............\n",
      "[CV]  learning_rate=0.001, max_depth=10, n_estimators=100, score=0.790, total=  17.9s\n",
      "[CV] learning_rate=0.001, max_depth=10, n_estimators=100 .............\n",
      "[CV]  learning_rate=0.001, max_depth=10, n_estimators=100, score=0.789, total=  18.1s\n",
      "[CV] learning_rate=0.001, max_depth=10, n_estimators=100 .............\n",
      "[CV]  learning_rate=0.001, max_depth=10, n_estimators=100, score=0.790, total=  20.6s\n",
      "[CV] learning_rate=0.001, max_depth=10, n_estimators=100 .............\n",
      "[CV]  learning_rate=0.001, max_depth=10, n_estimators=100, score=0.790, total=  18.8s\n",
      "[CV] learning_rate=0.001, max_depth=100, n_estimators=1 ..............\n",
      "[CV]  learning_rate=0.001, max_depth=100, n_estimators=1, score=0.790, total=   0.3s\n",
      "[CV] learning_rate=0.001, max_depth=100, n_estimators=1 ..............\n",
      "[CV]  learning_rate=0.001, max_depth=100, n_estimators=1, score=0.790, total=   0.3s\n",
      "[CV] learning_rate=0.001, max_depth=100, n_estimators=1 ..............\n",
      "[CV]  learning_rate=0.001, max_depth=100, n_estimators=1, score=0.789, total=   0.3s\n",
      "[CV] learning_rate=0.001, max_depth=100, n_estimators=1 ..............\n",
      "[CV]  learning_rate=0.001, max_depth=100, n_estimators=1, score=0.790, total=   0.3s\n",
      "[CV] learning_rate=0.001, max_depth=100, n_estimators=1 ..............\n",
      "[CV]  learning_rate=0.001, max_depth=100, n_estimators=1, score=0.790, total=   0.3s\n",
      "[CV] learning_rate=0.001, max_depth=100, n_estimators=10 .............\n",
      "[CV]  learning_rate=0.001, max_depth=100, n_estimators=10, score=0.790, total=   2.9s\n",
      "[CV] learning_rate=0.001, max_depth=100, n_estimators=10 .............\n",
      "[CV]  learning_rate=0.001, max_depth=100, n_estimators=10, score=0.790, total=   2.8s\n",
      "[CV] learning_rate=0.001, max_depth=100, n_estimators=10 .............\n",
      "[CV]  learning_rate=0.001, max_depth=100, n_estimators=10, score=0.789, total=   2.7s\n",
      "[CV] learning_rate=0.001, max_depth=100, n_estimators=10 .............\n",
      "[CV]  learning_rate=0.001, max_depth=100, n_estimators=10, score=0.790, total=   2.9s\n",
      "[CV] learning_rate=0.001, max_depth=100, n_estimators=10 .............\n",
      "[CV]  learning_rate=0.001, max_depth=100, n_estimators=10, score=0.790, total=   3.0s\n",
      "[CV] learning_rate=0.001, max_depth=100, n_estimators=100 ............\n",
      "[CV]  learning_rate=0.001, max_depth=100, n_estimators=100, score=0.790, total=  28.9s\n",
      "[CV] learning_rate=0.001, max_depth=100, n_estimators=100 ............\n",
      "[CV]  learning_rate=0.001, max_depth=100, n_estimators=100, score=0.790, total=  29.1s\n",
      "[CV] learning_rate=0.001, max_depth=100, n_estimators=100 ............\n",
      "[CV]  learning_rate=0.001, max_depth=100, n_estimators=100, score=0.789, total=  26.9s\n",
      "[CV] learning_rate=0.001, max_depth=100, n_estimators=100 ............\n",
      "[CV]  learning_rate=0.001, max_depth=100, n_estimators=100, score=0.790, total=  29.1s\n",
      "[CV] learning_rate=0.001, max_depth=100, n_estimators=100 ............\n",
      "[CV]  learning_rate=0.001, max_depth=100, n_estimators=100, score=0.790, total=  29.5s\n",
      "[CV] learning_rate=0.001, max_depth=1000, n_estimators=1 .............\n",
      "[CV]  learning_rate=0.001, max_depth=1000, n_estimators=1, score=0.790, total=   0.3s\n",
      "[CV] learning_rate=0.001, max_depth=1000, n_estimators=1 .............\n",
      "[CV]  learning_rate=0.001, max_depth=1000, n_estimators=1, score=0.790, total=   0.3s\n",
      "[CV] learning_rate=0.001, max_depth=1000, n_estimators=1 .............\n",
      "[CV]  learning_rate=0.001, max_depth=1000, n_estimators=1, score=0.789, total=   0.3s\n",
      "[CV] learning_rate=0.001, max_depth=1000, n_estimators=1 .............\n",
      "[CV]  learning_rate=0.001, max_depth=1000, n_estimators=1, score=0.790, total=   0.3s\n",
      "[CV] learning_rate=0.001, max_depth=1000, n_estimators=1 .............\n",
      "[CV]  learning_rate=0.001, max_depth=1000, n_estimators=1, score=0.790, total=   0.3s\n",
      "[CV] learning_rate=0.001, max_depth=1000, n_estimators=10 ............\n",
      "[CV]  learning_rate=0.001, max_depth=1000, n_estimators=10, score=0.790, total=   2.8s\n",
      "[CV] learning_rate=0.001, max_depth=1000, n_estimators=10 ............\n",
      "[CV]  learning_rate=0.001, max_depth=1000, n_estimators=10, score=0.790, total=   2.8s\n",
      "[CV] learning_rate=0.001, max_depth=1000, n_estimators=10 ............\n",
      "[CV]  learning_rate=0.001, max_depth=1000, n_estimators=10, score=0.789, total=   2.8s\n",
      "[CV] learning_rate=0.001, max_depth=1000, n_estimators=10 ............\n",
      "[CV]  learning_rate=0.001, max_depth=1000, n_estimators=10, score=0.790, total=   3.0s\n",
      "[CV] learning_rate=0.001, max_depth=1000, n_estimators=10 ............\n",
      "[CV]  learning_rate=0.001, max_depth=1000, n_estimators=10, score=0.790, total=   3.0s\n",
      "[CV] learning_rate=0.001, max_depth=1000, n_estimators=100 ...........\n",
      "[CV]  learning_rate=0.001, max_depth=1000, n_estimators=100, score=0.790, total=  28.3s\n",
      "[CV] learning_rate=0.001, max_depth=1000, n_estimators=100 ...........\n",
      "[CV]  learning_rate=0.001, max_depth=1000, n_estimators=100, score=0.790, total=  28.0s\n",
      "[CV] learning_rate=0.001, max_depth=1000, n_estimators=100 ...........\n",
      "[CV]  learning_rate=0.001, max_depth=1000, n_estimators=100, score=0.789, total=  27.2s\n",
      "[CV] learning_rate=0.001, max_depth=1000, n_estimators=100 ...........\n",
      "[CV]  learning_rate=0.001, max_depth=1000, n_estimators=100, score=0.790, total=  30.0s\n",
      "[CV] learning_rate=0.001, max_depth=1000, n_estimators=100 ...........\n",
      "[CV]  learning_rate=0.001, max_depth=1000, n_estimators=100, score=0.790, total=  29.5s\n",
      "[CV] learning_rate=0.01, max_depth=10, n_estimators=1 ................\n",
      "[CV]  learning_rate=0.01, max_depth=10, n_estimators=1, score=0.790, total=   0.2s\n",
      "[CV] learning_rate=0.01, max_depth=10, n_estimators=1 ................\n",
      "[CV]  learning_rate=0.01, max_depth=10, n_estimators=1, score=0.790, total=   0.2s\n",
      "[CV] learning_rate=0.01, max_depth=10, n_estimators=1 ................\n",
      "[CV]  learning_rate=0.01, max_depth=10, n_estimators=1, score=0.789, total=   0.2s\n",
      "[CV] learning_rate=0.01, max_depth=10, n_estimators=1 ................\n",
      "[CV]  learning_rate=0.01, max_depth=10, n_estimators=1, score=0.790, total=   0.2s\n",
      "[CV] learning_rate=0.01, max_depth=10, n_estimators=1 ................\n",
      "[CV]  learning_rate=0.01, max_depth=10, n_estimators=1, score=0.790, total=   0.2s\n",
      "[CV] learning_rate=0.01, max_depth=10, n_estimators=10 ...............\n",
      "[CV]  learning_rate=0.01, max_depth=10, n_estimators=10, score=0.790, total=   1.8s\n",
      "[CV] learning_rate=0.01, max_depth=10, n_estimators=10 ...............\n",
      "[CV]  learning_rate=0.01, max_depth=10, n_estimators=10, score=0.790, total=   1.8s\n",
      "[CV] learning_rate=0.01, max_depth=10, n_estimators=10 ...............\n",
      "[CV]  learning_rate=0.01, max_depth=10, n_estimators=10, score=0.789, total=   1.8s\n",
      "[CV] learning_rate=0.01, max_depth=10, n_estimators=10 ...............\n",
      "[CV]  learning_rate=0.01, max_depth=10, n_estimators=10, score=0.790, total=   1.8s\n",
      "[CV] learning_rate=0.01, max_depth=10, n_estimators=10 ...............\n",
      "[CV]  learning_rate=0.01, max_depth=10, n_estimators=10, score=0.790, total=   1.8s\n",
      "[CV] learning_rate=0.01, max_depth=10, n_estimators=100 ..............\n",
      "[CV]  learning_rate=0.01, max_depth=10, n_estimators=100, score=0.821, total=  18.2s\n",
      "[CV] learning_rate=0.01, max_depth=10, n_estimators=100 ..............\n",
      "[CV]  learning_rate=0.01, max_depth=10, n_estimators=100, score=0.810, total=  18.1s\n",
      "[CV] learning_rate=0.01, max_depth=10, n_estimators=100 ..............\n",
      "[CV]  learning_rate=0.01, max_depth=10, n_estimators=100, score=0.814, total=  18.2s\n",
      "[CV] learning_rate=0.01, max_depth=10, n_estimators=100 ..............\n",
      "[CV]  learning_rate=0.01, max_depth=10, n_estimators=100, score=0.803, total=  18.6s\n",
      "[CV] learning_rate=0.01, max_depth=10, n_estimators=100 ..............\n",
      "[CV]  learning_rate=0.01, max_depth=10, n_estimators=100, score=0.819, total=  18.6s\n",
      "[CV] learning_rate=0.01, max_depth=100, n_estimators=1 ...............\n",
      "[CV]  learning_rate=0.01, max_depth=100, n_estimators=1, score=0.790, total=   0.3s\n",
      "[CV] learning_rate=0.01, max_depth=100, n_estimators=1 ...............\n",
      "[CV]  learning_rate=0.01, max_depth=100, n_estimators=1, score=0.790, total=   0.3s\n",
      "[CV] learning_rate=0.01, max_depth=100, n_estimators=1 ...............\n",
      "[CV]  learning_rate=0.01, max_depth=100, n_estimators=1, score=0.789, total=   0.3s\n",
      "[CV] learning_rate=0.01, max_depth=100, n_estimators=1 ...............\n",
      "[CV]  learning_rate=0.01, max_depth=100, n_estimators=1, score=0.790, total=   0.3s\n",
      "[CV] learning_rate=0.01, max_depth=100, n_estimators=1 ...............\n",
      "[CV]  learning_rate=0.01, max_depth=100, n_estimators=1, score=0.790, total=   0.3s\n",
      "[CV] learning_rate=0.01, max_depth=100, n_estimators=10 ..............\n",
      "[CV]  learning_rate=0.01, max_depth=100, n_estimators=10, score=0.790, total=   2.9s\n",
      "[CV] learning_rate=0.01, max_depth=100, n_estimators=10 ..............\n",
      "[CV]  learning_rate=0.01, max_depth=100, n_estimators=10, score=0.790, total=   2.8s\n",
      "[CV] learning_rate=0.01, max_depth=100, n_estimators=10 ..............\n",
      "[CV]  learning_rate=0.01, max_depth=100, n_estimators=10, score=0.789, total=   2.7s\n",
      "[CV] learning_rate=0.01, max_depth=100, n_estimators=10 ..............\n",
      "[CV]  learning_rate=0.01, max_depth=100, n_estimators=10, score=0.790, total=   3.0s\n",
      "[CV] learning_rate=0.01, max_depth=100, n_estimators=10 ..............\n",
      "[CV]  learning_rate=0.01, max_depth=100, n_estimators=10, score=0.790, total=   3.0s\n",
      "[CV] learning_rate=0.01, max_depth=100, n_estimators=100 .............\n",
      "[CV]  learning_rate=0.01, max_depth=100, n_estimators=100, score=0.777, total=  28.0s\n",
      "[CV] learning_rate=0.01, max_depth=100, n_estimators=100 .............\n",
      "[CV]  learning_rate=0.01, max_depth=100, n_estimators=100, score=0.750, total=  27.3s\n",
      "[CV] learning_rate=0.01, max_depth=100, n_estimators=100 .............\n",
      "[CV]  learning_rate=0.01, max_depth=100, n_estimators=100, score=0.779, total=  27.2s\n",
      "[CV] learning_rate=0.01, max_depth=100, n_estimators=100 .............\n",
      "[CV]  learning_rate=0.01, max_depth=100, n_estimators=100, score=0.777, total=  29.2s\n",
      "[CV] learning_rate=0.01, max_depth=100, n_estimators=100 .............\n",
      "[CV]  learning_rate=0.01, max_depth=100, n_estimators=100, score=0.772, total=  29.7s\n",
      "[CV] learning_rate=0.01, max_depth=1000, n_estimators=1 ..............\n",
      "[CV]  learning_rate=0.01, max_depth=1000, n_estimators=1, score=0.790, total=   0.3s\n",
      "[CV] learning_rate=0.01, max_depth=1000, n_estimators=1 ..............\n",
      "[CV]  learning_rate=0.01, max_depth=1000, n_estimators=1, score=0.790, total=   0.3s\n",
      "[CV] learning_rate=0.01, max_depth=1000, n_estimators=1 ..............\n",
      "[CV]  learning_rate=0.01, max_depth=1000, n_estimators=1, score=0.789, total=   0.3s\n",
      "[CV] learning_rate=0.01, max_depth=1000, n_estimators=1 ..............\n",
      "[CV]  learning_rate=0.01, max_depth=1000, n_estimators=1, score=0.790, total=   0.3s\n",
      "[CV] learning_rate=0.01, max_depth=1000, n_estimators=1 ..............\n",
      "[CV]  learning_rate=0.01, max_depth=1000, n_estimators=1, score=0.790, total=   0.3s\n",
      "[CV] learning_rate=0.01, max_depth=1000, n_estimators=10 .............\n",
      "[CV]  learning_rate=0.01, max_depth=1000, n_estimators=10, score=0.790, total=   2.9s\n",
      "[CV] learning_rate=0.01, max_depth=1000, n_estimators=10 .............\n",
      "[CV]  learning_rate=0.01, max_depth=1000, n_estimators=10, score=0.790, total=   2.9s\n",
      "[CV] learning_rate=0.01, max_depth=1000, n_estimators=10 .............\n",
      "[CV]  learning_rate=0.01, max_depth=1000, n_estimators=10, score=0.789, total=   2.8s\n",
      "[CV] learning_rate=0.01, max_depth=1000, n_estimators=10 .............\n",
      "[CV]  learning_rate=0.01, max_depth=1000, n_estimators=10, score=0.790, total=   2.9s\n",
      "[CV] learning_rate=0.01, max_depth=1000, n_estimators=10 .............\n",
      "[CV]  learning_rate=0.01, max_depth=1000, n_estimators=10, score=0.790, total=   3.0s\n",
      "[CV] learning_rate=0.01, max_depth=1000, n_estimators=100 ............\n",
      "[CV]  learning_rate=0.01, max_depth=1000, n_estimators=100, score=0.782, total=  28.2s\n",
      "[CV] learning_rate=0.01, max_depth=1000, n_estimators=100 ............\n",
      "[CV]  learning_rate=0.01, max_depth=1000, n_estimators=100, score=0.748, total=  28.0s\n",
      "[CV] learning_rate=0.01, max_depth=1000, n_estimators=100 ............\n",
      "[CV]  learning_rate=0.01, max_depth=1000, n_estimators=100, score=0.781, total=  26.9s\n",
      "[CV] learning_rate=0.01, max_depth=1000, n_estimators=100 ............\n",
      "[CV]  learning_rate=0.01, max_depth=1000, n_estimators=100, score=0.774, total=  29.3s\n",
      "[CV] learning_rate=0.01, max_depth=1000, n_estimators=100 ............\n",
      "[CV]  learning_rate=0.01, max_depth=1000, n_estimators=100, score=0.771, total=  29.8s\n",
      "[CV] learning_rate=0.1, max_depth=10, n_estimators=1 .................\n",
      "[CV]  learning_rate=0.1, max_depth=10, n_estimators=1, score=0.790, total=   0.2s\n",
      "[CV] learning_rate=0.1, max_depth=10, n_estimators=1 .................\n",
      "[CV]  learning_rate=0.1, max_depth=10, n_estimators=1, score=0.790, total=   0.2s\n",
      "[CV] learning_rate=0.1, max_depth=10, n_estimators=1 .................\n",
      "[CV]  learning_rate=0.1, max_depth=10, n_estimators=1, score=0.789, total=   0.2s\n",
      "[CV] learning_rate=0.1, max_depth=10, n_estimators=1 .................\n",
      "[CV]  learning_rate=0.1, max_depth=10, n_estimators=1, score=0.790, total=   0.2s\n",
      "[CV] learning_rate=0.1, max_depth=10, n_estimators=1 .................\n",
      "[CV]  learning_rate=0.1, max_depth=10, n_estimators=1, score=0.790, total=   0.2s\n",
      "[CV] learning_rate=0.1, max_depth=10, n_estimators=10 ................\n",
      "[CV]  learning_rate=0.1, max_depth=10, n_estimators=10, score=0.811, total=   1.8s\n",
      "[CV] learning_rate=0.1, max_depth=10, n_estimators=10 ................\n",
      "[CV]  learning_rate=0.1, max_depth=10, n_estimators=10, score=0.815, total=   1.8s\n",
      "[CV] learning_rate=0.1, max_depth=10, n_estimators=10 ................\n",
      "[CV]  learning_rate=0.1, max_depth=10, n_estimators=10, score=0.818, total=   1.8s\n",
      "[CV] learning_rate=0.1, max_depth=10, n_estimators=10 ................\n",
      "[CV]  learning_rate=0.1, max_depth=10, n_estimators=10, score=0.799, total=   1.8s\n",
      "[CV] learning_rate=0.1, max_depth=10, n_estimators=10 ................\n",
      "[CV]  learning_rate=0.1, max_depth=10, n_estimators=10, score=0.813, total=   1.9s\n",
      "[CV] learning_rate=0.1, max_depth=10, n_estimators=100 ...............\n",
      "[CV]  learning_rate=0.1, max_depth=10, n_estimators=100, score=0.831, total=  19.4s\n",
      "[CV] learning_rate=0.1, max_depth=10, n_estimators=100 ...............\n",
      "[CV]  learning_rate=0.1, max_depth=10, n_estimators=100, score=0.820, total=  19.0s\n",
      "[CV] learning_rate=0.1, max_depth=10, n_estimators=100 ...............\n",
      "[CV]  learning_rate=0.1, max_depth=10, n_estimators=100, score=0.825, total=  19.2s\n",
      "[CV] learning_rate=0.1, max_depth=10, n_estimators=100 ...............\n",
      "[CV]  learning_rate=0.1, max_depth=10, n_estimators=100, score=0.808, total=  19.4s\n",
      "[CV] learning_rate=0.1, max_depth=10, n_estimators=100 ...............\n",
      "[CV]  learning_rate=0.1, max_depth=10, n_estimators=100, score=0.829, total=  19.1s\n",
      "[CV] learning_rate=0.1, max_depth=100, n_estimators=1 ................\n",
      "[CV]  learning_rate=0.1, max_depth=100, n_estimators=1, score=0.790, total=   0.3s\n",
      "[CV] learning_rate=0.1, max_depth=100, n_estimators=1 ................\n",
      "[CV]  learning_rate=0.1, max_depth=100, n_estimators=1, score=0.790, total=   0.3s\n",
      "[CV] learning_rate=0.1, max_depth=100, n_estimators=1 ................\n",
      "[CV]  learning_rate=0.1, max_depth=100, n_estimators=1, score=0.789, total=   0.3s\n",
      "[CV] learning_rate=0.1, max_depth=100, n_estimators=1 ................\n",
      "[CV]  learning_rate=0.1, max_depth=100, n_estimators=1, score=0.790, total=   0.3s\n",
      "[CV] learning_rate=0.1, max_depth=100, n_estimators=1 ................\n",
      "[CV]  learning_rate=0.1, max_depth=100, n_estimators=1, score=0.790, total=   0.3s\n",
      "[CV] learning_rate=0.1, max_depth=100, n_estimators=10 ...............\n",
      "[CV]  learning_rate=0.1, max_depth=100, n_estimators=10, score=0.777, total=   2.8s\n",
      "[CV] learning_rate=0.1, max_depth=100, n_estimators=10 ...............\n",
      "[CV]  learning_rate=0.1, max_depth=100, n_estimators=10, score=0.748, total=   2.8s\n",
      "[CV] learning_rate=0.1, max_depth=100, n_estimators=10 ...............\n",
      "[CV]  learning_rate=0.1, max_depth=100, n_estimators=10, score=0.781, total=   2.7s\n",
      "[CV] learning_rate=0.1, max_depth=100, n_estimators=10 ...............\n",
      "[CV]  learning_rate=0.1, max_depth=100, n_estimators=10, score=0.773, total=   3.0s\n",
      "[CV] learning_rate=0.1, max_depth=100, n_estimators=10 ...............\n",
      "[CV]  learning_rate=0.1, max_depth=100, n_estimators=10, score=0.770, total=   3.0s\n",
      "[CV] learning_rate=0.1, max_depth=100, n_estimators=100 ..............\n",
      "[CV]  learning_rate=0.1, max_depth=100, n_estimators=100, score=0.781, total=  22.1s\n",
      "[CV] learning_rate=0.1, max_depth=100, n_estimators=100 ..............\n",
      "[CV]  learning_rate=0.1, max_depth=100, n_estimators=100, score=0.746, total=  21.3s\n",
      "[CV] learning_rate=0.1, max_depth=100, n_estimators=100 ..............\n",
      "[CV]  learning_rate=0.1, max_depth=100, n_estimators=100, score=0.777, total=  21.0s\n",
      "[CV] learning_rate=0.1, max_depth=100, n_estimators=100 ..............\n",
      "[CV]  learning_rate=0.1, max_depth=100, n_estimators=100, score=0.772, total=  22.7s\n",
      "[CV] learning_rate=0.1, max_depth=100, n_estimators=100 ..............\n",
      "[CV]  learning_rate=0.1, max_depth=100, n_estimators=100, score=0.762, total=  22.5s\n",
      "[CV] learning_rate=0.1, max_depth=1000, n_estimators=1 ...............\n",
      "[CV]  learning_rate=0.1, max_depth=1000, n_estimators=1, score=0.790, total=   0.3s\n",
      "[CV] learning_rate=0.1, max_depth=1000, n_estimators=1 ...............\n",
      "[CV]  learning_rate=0.1, max_depth=1000, n_estimators=1, score=0.790, total=   0.3s\n",
      "[CV] learning_rate=0.1, max_depth=1000, n_estimators=1 ...............\n",
      "[CV]  learning_rate=0.1, max_depth=1000, n_estimators=1, score=0.789, total=   0.3s\n",
      "[CV] learning_rate=0.1, max_depth=1000, n_estimators=1 ...............\n",
      "[CV]  learning_rate=0.1, max_depth=1000, n_estimators=1, score=0.790, total=   0.3s\n",
      "[CV] learning_rate=0.1, max_depth=1000, n_estimators=1 ...............\n",
      "[CV]  learning_rate=0.1, max_depth=1000, n_estimators=1, score=0.790, total=   0.3s\n",
      "[CV] learning_rate=0.1, max_depth=1000, n_estimators=10 ..............\n",
      "[CV]  learning_rate=0.1, max_depth=1000, n_estimators=10, score=0.780, total=   2.8s\n",
      "[CV] learning_rate=0.1, max_depth=1000, n_estimators=10 ..............\n",
      "[CV]  learning_rate=0.1, max_depth=1000, n_estimators=10, score=0.746, total=   2.8s\n",
      "[CV] learning_rate=0.1, max_depth=1000, n_estimators=10 ..............\n",
      "[CV]  learning_rate=0.1, max_depth=1000, n_estimators=10, score=0.782, total=   2.7s\n",
      "[CV] learning_rate=0.1, max_depth=1000, n_estimators=10 ..............\n",
      "[CV]  learning_rate=0.1, max_depth=1000, n_estimators=10, score=0.772, total=   2.9s\n",
      "[CV] learning_rate=0.1, max_depth=1000, n_estimators=10 ..............\n",
      "[CV]  learning_rate=0.1, max_depth=1000, n_estimators=10, score=0.772, total=   2.9s\n",
      "[CV] learning_rate=0.1, max_depth=1000, n_estimators=100 .............\n",
      "[CV]  learning_rate=0.1, max_depth=1000, n_estimators=100, score=0.782, total=  21.7s\n",
      "[CV] learning_rate=0.1, max_depth=1000, n_estimators=100 .............\n",
      "[CV]  learning_rate=0.1, max_depth=1000, n_estimators=100, score=0.743, total=  21.1s\n",
      "[CV] learning_rate=0.1, max_depth=1000, n_estimators=100 .............\n",
      "[CV]  learning_rate=0.1, max_depth=1000, n_estimators=100, score=0.779, total=  20.7s\n",
      "[CV] learning_rate=0.1, max_depth=1000, n_estimators=100 .............\n",
      "[CV]  learning_rate=0.1, max_depth=1000, n_estimators=100, score=0.770, total=  22.2s\n",
      "[CV] learning_rate=0.1, max_depth=1000, n_estimators=100 .............\n",
      "[CV]  learning_rate=0.1, max_depth=1000, n_estimators=100, score=0.765, total=  22.4s\n",
      "[CV] learning_rate=10, max_depth=10, n_estimators=1 ..................\n",
      "[CV]  learning_rate=10, max_depth=10, n_estimators=1, score=0.783, total=   0.2s\n",
      "[CV] learning_rate=10, max_depth=10, n_estimators=1 ..................\n",
      "[CV]  learning_rate=10, max_depth=10, n_estimators=1, score=0.758, total=   0.2s\n",
      "[CV] learning_rate=10, max_depth=10, n_estimators=1 ..................\n",
      "[CV]  learning_rate=10, max_depth=10, n_estimators=1, score=0.778, total=   0.2s\n",
      "[CV] learning_rate=10, max_depth=10, n_estimators=1 ..................\n",
      "[CV]  learning_rate=10, max_depth=10, n_estimators=1, score=0.777, total=   0.2s\n",
      "[CV] learning_rate=10, max_depth=10, n_estimators=1 ..................\n",
      "[CV]  learning_rate=10, max_depth=10, n_estimators=1, score=0.784, total=   0.2s\n",
      "[CV] learning_rate=10, max_depth=10, n_estimators=10 .................\n",
      "[CV]  learning_rate=10, max_depth=10, n_estimators=10, score=0.496, total=   1.8s\n",
      "[CV] learning_rate=10, max_depth=10, n_estimators=10 .................\n",
      "[CV]  learning_rate=10, max_depth=10, n_estimators=10, score=0.334, total=   1.8s\n",
      "[CV] learning_rate=10, max_depth=10, n_estimators=10 .................\n",
      "[CV]  learning_rate=10, max_depth=10, n_estimators=10, score=0.439, total=   1.8s\n",
      "[CV] learning_rate=10, max_depth=10, n_estimators=10 .................\n",
      "[CV]  learning_rate=10, max_depth=10, n_estimators=10, score=0.455, total=   1.8s\n",
      "[CV] learning_rate=10, max_depth=10, n_estimators=10 .................\n",
      "[CV]  learning_rate=10, max_depth=10, n_estimators=10, score=0.513, total=   1.8s\n",
      "[CV] learning_rate=10, max_depth=10, n_estimators=100 ................\n",
      "[CV]  learning_rate=10, max_depth=10, n_estimators=100, score=0.453, total=  17.3s\n",
      "[CV] learning_rate=10, max_depth=10, n_estimators=100 ................\n",
      "[CV]  learning_rate=10, max_depth=10, n_estimators=100, score=0.293, total=  18.2s\n",
      "[CV] learning_rate=10, max_depth=10, n_estimators=100 ................\n",
      "[CV]  learning_rate=10, max_depth=10, n_estimators=100, score=0.319, total=  17.8s\n",
      "[CV] learning_rate=10, max_depth=10, n_estimators=100 ................\n",
      "[CV]  learning_rate=10, max_depth=10, n_estimators=100, score=0.510, total=  18.3s\n",
      "[CV] learning_rate=10, max_depth=10, n_estimators=100 ................\n",
      "[CV]  learning_rate=10, max_depth=10, n_estimators=100, score=0.344, total=  17.7s\n",
      "[CV] learning_rate=10, max_depth=100, n_estimators=1 .................\n",
      "[CV]  learning_rate=10, max_depth=100, n_estimators=1, score=0.767, total=   0.3s\n",
      "[CV] learning_rate=10, max_depth=100, n_estimators=1 .................\n",
      "[CV]  learning_rate=10, max_depth=100, n_estimators=1, score=0.733, total=   0.3s\n",
      "[CV] learning_rate=10, max_depth=100, n_estimators=1 .................\n",
      "[CV]  learning_rate=10, max_depth=100, n_estimators=1, score=0.764, total=   0.3s\n",
      "[CV] learning_rate=10, max_depth=100, n_estimators=1 .................\n",
      "[CV]  learning_rate=10, max_depth=100, n_estimators=1, score=0.758, total=   0.3s\n",
      "[CV] learning_rate=10, max_depth=100, n_estimators=1 .................\n",
      "[CV]  learning_rate=10, max_depth=100, n_estimators=1, score=0.751, total=   0.3s\n",
      "[CV] learning_rate=10, max_depth=100, n_estimators=10 ................\n",
      "[CV]  learning_rate=10, max_depth=100, n_estimators=10, score=0.768, total=   0.3s\n",
      "[CV] learning_rate=10, max_depth=100, n_estimators=10 ................\n",
      "[CV]  learning_rate=10, max_depth=100, n_estimators=10, score=0.735, total=   0.3s\n",
      "[CV] learning_rate=10, max_depth=100, n_estimators=10 ................\n",
      "[CV]  learning_rate=10, max_depth=100, n_estimators=10, score=0.768, total=   0.3s\n",
      "[CV] learning_rate=10, max_depth=100, n_estimators=10 ................\n",
      "[CV]  learning_rate=10, max_depth=100, n_estimators=10, score=0.751, total=   0.3s\n",
      "[CV] learning_rate=10, max_depth=100, n_estimators=10 ................\n",
      "[CV]  learning_rate=10, max_depth=100, n_estimators=10, score=0.756, total=   0.3s\n",
      "[CV] learning_rate=10, max_depth=100, n_estimators=100 ...............\n",
      "[CV]  learning_rate=10, max_depth=100, n_estimators=100, score=0.772, total=   0.4s\n",
      "[CV] learning_rate=10, max_depth=100, n_estimators=100 ...............\n",
      "[CV]  learning_rate=10, max_depth=100, n_estimators=100, score=0.736, total=   0.3s\n",
      "[CV] learning_rate=10, max_depth=100, n_estimators=100 ...............\n",
      "[CV]  learning_rate=10, max_depth=100, n_estimators=100, score=0.762, total=   0.3s\n",
      "[CV] learning_rate=10, max_depth=100, n_estimators=100 ...............\n",
      "[CV]  learning_rate=10, max_depth=100, n_estimators=100, score=0.764, total=   0.4s\n",
      "[CV] learning_rate=10, max_depth=100, n_estimators=100 ...............\n",
      "[CV]  learning_rate=10, max_depth=100, n_estimators=100, score=0.759, total=   0.4s\n",
      "[CV] learning_rate=10, max_depth=1000, n_estimators=1 ................\n",
      "[CV]  learning_rate=10, max_depth=1000, n_estimators=1, score=0.769, total=   0.3s\n",
      "[CV] learning_rate=10, max_depth=1000, n_estimators=1 ................\n",
      "[CV]  learning_rate=10, max_depth=1000, n_estimators=1, score=0.733, total=   0.3s\n",
      "[CV] learning_rate=10, max_depth=1000, n_estimators=1 ................\n",
      "[CV]  learning_rate=10, max_depth=1000, n_estimators=1, score=0.765, total=   0.3s\n",
      "[CV] learning_rate=10, max_depth=1000, n_estimators=1 ................\n",
      "[CV]  learning_rate=10, max_depth=1000, n_estimators=1, score=0.755, total=   0.3s\n",
      "[CV] learning_rate=10, max_depth=1000, n_estimators=1 ................\n",
      "[CV]  learning_rate=10, max_depth=1000, n_estimators=1, score=0.748, total=   0.3s\n",
      "[CV] learning_rate=10, max_depth=1000, n_estimators=10 ...............\n",
      "[CV]  learning_rate=10, max_depth=1000, n_estimators=10, score=0.774, total=   0.3s\n",
      "[CV] learning_rate=10, max_depth=1000, n_estimators=10 ...............\n",
      "[CV]  learning_rate=10, max_depth=1000, n_estimators=10, score=0.734, total=   0.3s\n",
      "[CV] learning_rate=10, max_depth=1000, n_estimators=10 ...............\n",
      "[CV]  learning_rate=10, max_depth=1000, n_estimators=10, score=0.772, total=   0.3s\n",
      "[CV] learning_rate=10, max_depth=1000, n_estimators=10 ...............\n",
      "[CV]  learning_rate=10, max_depth=1000, n_estimators=10, score=0.752, total=   0.3s\n",
      "[CV] learning_rate=10, max_depth=1000, n_estimators=10 ...............\n",
      "[CV]  learning_rate=10, max_depth=1000, n_estimators=10, score=0.749, total=   0.3s\n",
      "[CV] learning_rate=10, max_depth=1000, n_estimators=100 ..............\n",
      "[CV]  learning_rate=10, max_depth=1000, n_estimators=100, score=0.772, total=   0.3s\n",
      "[CV] learning_rate=10, max_depth=1000, n_estimators=100 ..............\n",
      "[CV]  learning_rate=10, max_depth=1000, n_estimators=100, score=0.725, total=   0.3s\n",
      "[CV] learning_rate=10, max_depth=1000, n_estimators=100 ..............\n",
      "[CV]  learning_rate=10, max_depth=1000, n_estimators=100, score=0.766, total=   0.3s\n",
      "[CV] learning_rate=10, max_depth=1000, n_estimators=100 ..............\n",
      "[CV]  learning_rate=10, max_depth=1000, n_estimators=100, score=0.762, total=   0.4s\n",
      "[CV] learning_rate=10, max_depth=1000, n_estimators=100 ..............\n",
      "[CV]  learning_rate=10, max_depth=1000, n_estimators=100, score=0.751, total=   0.4s\n",
      "[CV] learning_rate=100, max_depth=10, n_estimators=1 .................\n",
      "[CV]  learning_rate=100, max_depth=10, n_estimators=1, score=0.776, total=   0.2s\n",
      "[CV] learning_rate=100, max_depth=10, n_estimators=1 .................\n",
      "[CV]  learning_rate=100, max_depth=10, n_estimators=1, score=0.757, total=   0.2s\n",
      "[CV] learning_rate=100, max_depth=10, n_estimators=1 .................\n",
      "[CV]  learning_rate=100, max_depth=10, n_estimators=1, score=0.777, total=   0.2s\n",
      "[CV] learning_rate=100, max_depth=10, n_estimators=1 .................\n",
      "[CV]  learning_rate=100, max_depth=10, n_estimators=1, score=0.778, total=   0.2s\n",
      "[CV] learning_rate=100, max_depth=10, n_estimators=1 .................\n",
      "[CV]  learning_rate=100, max_depth=10, n_estimators=1, score=0.787, total=   0.2s\n",
      "[CV] learning_rate=100, max_depth=10, n_estimators=10 ................\n",
      "[CV]  learning_rate=100, max_depth=10, n_estimators=10, score=0.458, total=   1.8s\n",
      "[CV] learning_rate=100, max_depth=10, n_estimators=10 ................\n",
      "[CV]  learning_rate=100, max_depth=10, n_estimators=10, score=0.465, total=   1.8s\n",
      "[CV] learning_rate=100, max_depth=10, n_estimators=10 ................\n",
      "[CV]  learning_rate=100, max_depth=10, n_estimators=10, score=0.482, total=   1.8s\n",
      "[CV] learning_rate=100, max_depth=10, n_estimators=10 ................\n",
      "[CV]  learning_rate=100, max_depth=10, n_estimators=10, score=0.280, total=   1.8s\n",
      "[CV] learning_rate=100, max_depth=10, n_estimators=10 ................\n",
      "[CV]  learning_rate=100, max_depth=10, n_estimators=10, score=0.286, total=   1.8s\n",
      "[CV] learning_rate=100, max_depth=10, n_estimators=100 ...............\n",
      "[CV]  learning_rate=100, max_depth=10, n_estimators=100, score=0.429, total=  17.7s\n",
      "[CV] learning_rate=100, max_depth=10, n_estimators=100 ...............\n",
      "[CV]  learning_rate=100, max_depth=10, n_estimators=100, score=0.421, total=  17.6s\n",
      "[CV] learning_rate=100, max_depth=10, n_estimators=100 ...............\n",
      "[CV]  learning_rate=100, max_depth=10, n_estimators=100, score=0.372, total=  17.9s\n",
      "[CV] learning_rate=100, max_depth=10, n_estimators=100 ...............\n",
      "[CV]  learning_rate=100, max_depth=10, n_estimators=100, score=0.227, total=  17.9s\n",
      "[CV] learning_rate=100, max_depth=10, n_estimators=100 ...............\n",
      "[CV]  learning_rate=100, max_depth=10, n_estimators=100, score=0.301, total=  17.5s\n",
      "[CV] learning_rate=100, max_depth=100, n_estimators=1 ................\n",
      "[CV]  learning_rate=100, max_depth=100, n_estimators=1, score=0.772, total=   0.3s\n",
      "[CV] learning_rate=100, max_depth=100, n_estimators=1 ................\n",
      "[CV]  learning_rate=100, max_depth=100, n_estimators=1, score=0.734, total=   0.3s\n",
      "[CV] learning_rate=100, max_depth=100, n_estimators=1 ................\n",
      "[CV]  learning_rate=100, max_depth=100, n_estimators=1, score=0.767, total=   0.3s\n",
      "[CV] learning_rate=100, max_depth=100, n_estimators=1 ................\n",
      "[CV]  learning_rate=100, max_depth=100, n_estimators=1, score=0.759, total=   0.3s\n",
      "[CV] learning_rate=100, max_depth=100, n_estimators=1 ................\n",
      "[CV]  learning_rate=100, max_depth=100, n_estimators=1, score=0.753, total=   0.3s\n",
      "[CV] learning_rate=100, max_depth=100, n_estimators=10 ...............\n",
      "[CV]  learning_rate=100, max_depth=100, n_estimators=10, score=0.764, total=   0.3s\n",
      "[CV] learning_rate=100, max_depth=100, n_estimators=10 ...............\n",
      "[CV]  learning_rate=100, max_depth=100, n_estimators=10, score=0.728, total=   0.3s\n",
      "[CV] learning_rate=100, max_depth=100, n_estimators=10 ...............\n",
      "[CV]  learning_rate=100, max_depth=100, n_estimators=10, score=0.768, total=   0.3s\n",
      "[CV] learning_rate=100, max_depth=100, n_estimators=10 ...............\n",
      "[CV]  learning_rate=100, max_depth=100, n_estimators=10, score=0.758, total=   0.3s\n",
      "[CV] learning_rate=100, max_depth=100, n_estimators=10 ...............\n",
      "[CV]  learning_rate=100, max_depth=100, n_estimators=10, score=0.753, total=   0.3s\n",
      "[CV] learning_rate=100, max_depth=100, n_estimators=100 ..............\n",
      "[CV]  learning_rate=100, max_depth=100, n_estimators=100, score=0.770, total=   0.3s\n",
      "[CV] learning_rate=100, max_depth=100, n_estimators=100 ..............\n",
      "[CV]  learning_rate=100, max_depth=100, n_estimators=100, score=0.724, total=   0.3s\n",
      "[CV] learning_rate=100, max_depth=100, n_estimators=100 ..............\n",
      "[CV]  learning_rate=100, max_depth=100, n_estimators=100, score=0.770, total=   0.3s\n",
      "[CV] learning_rate=100, max_depth=100, n_estimators=100 ..............\n",
      "[CV]  learning_rate=100, max_depth=100, n_estimators=100, score=0.758, total=   0.3s\n",
      "[CV] learning_rate=100, max_depth=100, n_estimators=100 ..............\n",
      "[CV]  learning_rate=100, max_depth=100, n_estimators=100, score=0.757, total=   0.4s\n",
      "[CV] learning_rate=100, max_depth=1000, n_estimators=1 ...............\n",
      "[CV]  learning_rate=100, max_depth=1000, n_estimators=1, score=0.771, total=   0.3s\n",
      "[CV] learning_rate=100, max_depth=1000, n_estimators=1 ...............\n",
      "[CV]  learning_rate=100, max_depth=1000, n_estimators=1, score=0.741, total=   0.3s\n",
      "[CV] learning_rate=100, max_depth=1000, n_estimators=1 ...............\n",
      "[CV]  learning_rate=100, max_depth=1000, n_estimators=1, score=0.768, total=   0.3s\n",
      "[CV] learning_rate=100, max_depth=1000, n_estimators=1 ...............\n",
      "[CV]  learning_rate=100, max_depth=1000, n_estimators=1, score=0.756, total=   0.3s\n",
      "[CV] learning_rate=100, max_depth=1000, n_estimators=1 ...............\n",
      "[CV]  learning_rate=100, max_depth=1000, n_estimators=1, score=0.754, total=   0.3s\n",
      "[CV] learning_rate=100, max_depth=1000, n_estimators=10 ..............\n",
      "[CV]  learning_rate=100, max_depth=1000, n_estimators=10, score=0.770, total=   0.3s\n",
      "[CV] learning_rate=100, max_depth=1000, n_estimators=10 ..............\n",
      "[CV]  learning_rate=100, max_depth=1000, n_estimators=10, score=0.722, total=   0.3s\n",
      "[CV] learning_rate=100, max_depth=1000, n_estimators=10 ..............\n",
      "[CV]  learning_rate=100, max_depth=1000, n_estimators=10, score=0.767, total=   0.3s\n",
      "[CV] learning_rate=100, max_depth=1000, n_estimators=10 ..............\n",
      "[CV]  learning_rate=100, max_depth=1000, n_estimators=10, score=0.759, total=   0.3s\n",
      "[CV] learning_rate=100, max_depth=1000, n_estimators=10 ..............\n",
      "[CV]  learning_rate=100, max_depth=1000, n_estimators=10, score=0.750, total=   0.3s\n",
      "[CV] learning_rate=100, max_depth=1000, n_estimators=100 .............\n",
      "[CV]  learning_rate=100, max_depth=1000, n_estimators=100, score=0.769, total=   0.3s\n",
      "[CV] learning_rate=100, max_depth=1000, n_estimators=100 .............\n",
      "[CV]  learning_rate=100, max_depth=1000, n_estimators=100, score=0.729, total=   0.3s\n",
      "[CV] learning_rate=100, max_depth=1000, n_estimators=100 .............\n",
      "[CV]  learning_rate=100, max_depth=1000, n_estimators=100, score=0.769, total=   0.3s\n",
      "[CV] learning_rate=100, max_depth=1000, n_estimators=100 .............\n",
      "[CV]  learning_rate=100, max_depth=1000, n_estimators=100, score=0.762, total=   0.4s\n",
      "[CV] learning_rate=100, max_depth=1000, n_estimators=100 .............\n",
      "[CV]  learning_rate=100, max_depth=1000, n_estimators=100, score=0.766, total=   0.4s\n"
     ]
    },
    {
     "name": "stderr",
     "output_type": "stream",
     "text": [
      "[Parallel(n_jobs=1)]: Done 225 out of 225 | elapsed: 23.5min finished\n"
     ]
    },
    {
     "data": {
      "text/plain": [
       "GridSearchCV(cv=None, error_score=nan,\n",
       "             estimator=GradientBoostingClassifier(ccp_alpha=0.0,\n",
       "                                                  criterion='friedman_mse',\n",
       "                                                  init=None, learning_rate=0.1,\n",
       "                                                  loss='deviance', max_depth=3,\n",
       "                                                  max_features=None,\n",
       "                                                  max_leaf_nodes=None,\n",
       "                                                  min_impurity_decrease=0.0,\n",
       "                                                  min_impurity_split=None,\n",
       "                                                  min_samples_leaf=1,\n",
       "                                                  min_samples_split=2,\n",
       "                                                  min_weight_fraction_leaf=0.0,\n",
       "                                                  n_estimators=100,\n",
       "                                                  n_iter_no_change=None,\n",
       "                                                  presort='deprecated',\n",
       "                                                  random_state=None,\n",
       "                                                  subsample=1.0, tol=0.0001,\n",
       "                                                  validation_fraction=0.1,\n",
       "                                                  verbose=0, warm_start=False),\n",
       "             iid='deprecated', n_jobs=None,\n",
       "             param_grid={'learning_rate': [0.001, 0.01, 0.1, 10, 100],\n",
       "                         'max_depth': [10, 100, 1000],\n",
       "                         'n_estimators': [1, 10, 100]},\n",
       "             pre_dispatch='2*n_jobs', refit=True, return_train_score=False,\n",
       "             scoring=None, verbose=3)"
      ]
     },
     "execution_count": 48,
     "metadata": {},
     "output_type": "execute_result"
    }
   ],
   "source": [
    "params = {'learning_rate': [0.001, 0.01, 0.1, 10, 100],\n",
    "         'max_depth': [10, 100, 1000],\n",
    "         'n_estimators': [1, 10, 100]\n",
    "         }\n",
    "\n",
    "best_model_gb = GridSearchCV(model_gb, params, verbose = 3) \n",
    "\n",
    "best_model_gb.fit(X_val, y_val)"
   ]
  },
  {
   "cell_type": "code",
   "execution_count": 49,
   "metadata": {},
   "outputs": [
    {
     "data": {
      "text/plain": [
       "{'learning_rate': 0.1, 'max_depth': 10, 'n_estimators': 100}"
      ]
     },
     "execution_count": 49,
     "metadata": {},
     "output_type": "execute_result"
    }
   ],
   "source": [
    "best_model_gb.best_params_"
   ]
  },
  {
   "cell_type": "code",
   "execution_count": 50,
   "metadata": {},
   "outputs": [
    {
     "data": {
      "text/plain": [
       "array([[7337,    0],\n",
       "       [  12, 1944]], dtype=int64)"
      ]
     },
     "execution_count": 50,
     "metadata": {},
     "output_type": "execute_result"
    }
   ],
   "source": [
    "X_val_pred = best_model_gb.predict(X_val)\n",
    "confusion_matrix(y_val, X_val_pred)"
   ]
  },
  {
   "cell_type": "code",
   "execution_count": 51,
   "metadata": {},
   "outputs": [
    {
     "name": "stdout",
     "output_type": "stream",
     "text": [
      "best model's accuracy on validation set:  0.9987087054772409\n"
     ]
    }
   ],
   "source": [
    "accuracy_gb_val = accuracy_score(y_val, X_val_pred)\n",
    "print(\"best model's accuracy on validation set: \", accuracy_gb_val)"
   ]
  },
  {
   "cell_type": "code",
   "execution_count": 52,
   "metadata": {},
   "outputs": [
    {
     "data": {
      "text/plain": [
       "array([[8445,  602],\n",
       "       [1439, 1130]], dtype=int64)"
      ]
     },
     "execution_count": 52,
     "metadata": {},
     "output_type": "execute_result"
    }
   ],
   "source": [
    "X_test_pred = best_model_gb.predict(X_test)\n",
    "confusion_matrix(y_test, X_test_pred)"
   ]
  },
  {
   "cell_type": "code",
   "execution_count": 53,
   "metadata": {},
   "outputs": [
    {
     "name": "stdout",
     "output_type": "stream",
     "text": [
      "accuracy on test set:  0.8242940771349863\n"
     ]
    }
   ],
   "source": [
    "accuracy_gb_test = accuracy_score(y_test, X_test_pred)\n",
    "print(\"accuracy on test set: \", accuracy_gb_test)"
   ]
  },
  {
   "cell_type": "code",
   "execution_count": null,
   "metadata": {},
   "outputs": [],
   "source": [
    "models = ('Train', 'Test')\n",
    "y_pos = np.arange(len(models))\n",
    "accuracy = [accuracy_gb_train*100, accuracy_gb_test*100]\n",
    "\n",
    "plt.bar(y_pos, accuracy, align='center', alpha=0.5, color = 'black')\n",
    "plt.xticks(y_pos, models)\n",
    "plt.ylabel('Accuracy')\n",
    "plt.title('Gradient Boost')\n",
    "plt.grid(True)\n",
    "\n",
    "plt.show()"
   ]
  }
 ],
 "metadata": {
  "kernelspec": {
   "display_name": "Python 3",
   "language": "python",
   "name": "python3"
  },
  "language_info": {
   "codemirror_mode": {
    "name": "ipython",
    "version": 3
   },
   "file_extension": ".py",
   "mimetype": "text/x-python",
   "name": "python",
   "nbconvert_exporter": "python",
   "pygments_lexer": "ipython3",
   "version": "3.7.3"
  }
 },
 "nbformat": 4,
 "nbformat_minor": 4
}
